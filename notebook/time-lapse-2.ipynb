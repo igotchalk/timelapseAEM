{
 "cells": [
  {
   "cell_type": "code",
   "execution_count": 6,
   "metadata": {},
   "outputs": [],
   "source": [
    "from SimPEG import Mesh, Utils, EM, Maps\n",
    "from pymatsolver import Pardiso\n",
    "from scipy.constants import mu_0\n",
    "import numpy as np\n",
    "import matplotlib.pyplot as plt\n",
    "%matplotlib inline\n",
    "from pyMKL import mkl_set_num_threads\n",
    "from multiprocessing import Pool\n",
    "from SimPEG import Mesh\n",
    "from simpegskytem import ProblemSkyTEM, GlobalAEMSurveyTD, GlobalSkyTEM, get_skytem_survey\n",
    "import pandas as pd\n",
    "from scipy.interpolate import NearestNDInterpolator"
   ]
  },
  {
   "cell_type": "code",
   "execution_count": 7,
   "metadata": {},
   "outputs": [],
   "source": [
    "from simpegskytem import Utils"
   ]
  },
  {
   "cell_type": "code",
   "execution_count": 8,
   "metadata": {},
   "outputs": [],
   "source": [
    "mesh, models = Mesh.TensorMesh.read_vtk('./time-lapse-synthetic.vtr')"
   ]
  },
  {
   "cell_type": "code",
   "execution_count": 9,
   "metadata": {},
   "outputs": [],
   "source": [
    "unit_conversion = 1e-12\n",
    "\n",
    "i_start_hm = 10\n",
    "i_start_lm = 10\n",
    "\n",
    "waveform_hm_304 = np.loadtxt(\"./data/waveform_hm_304.txt\")\n",
    "waveform_lm_304 = np.loadtxt(\"./data/waveform_lm_304.txt\")\n",
    "time_input_currents_hm_304 = waveform_hm_304[:,0] \n",
    "input_currents_hm_304 = waveform_hm_304[:,1]\n",
    "time_input_currents_lm_304 = waveform_lm_304[:,0] \n",
    "input_currents_lm_304 = waveform_lm_304[:,1]\n",
    "\n",
    "time_gates = np.loadtxt(\"./data/time_gates\")\n",
    "GateTimeShift=-2.09E-06\n",
    "MeaTimeDelay=0.000E+00\n",
    "NoGates=28\n",
    "t0_lm_304 = waveform_lm_304[:,0].max()\n",
    "times_lm_304 = (time_gates[:NoGates,0] + GateTimeShift + MeaTimeDelay)[i_start_lm:] - t0_lm_304\n",
    "\n",
    "GateTimeShift=-1.5E-06\n",
    "MeaTimeDelay=3.500E-04\n",
    "NoGates=37\n",
    "t0_hm_304 = waveform_hm_304[:,0].max()\n",
    "times_hm_304 = (time_gates[:NoGates,0] + GateTimeShift + MeaTimeDelay)[i_start_hm:] - t0_hm_304    "
   ]
  },
  {
   "cell_type": "code",
   "execution_count": 10,
   "metadata": {},
   "outputs": [],
   "source": [
    "rho_1 = models['rho_1']\n",
    "rho_3 = models['rho_3']\n",
    "active_inds = mesh.gridCC[:,2] < 0."
   ]
  },
  {
   "cell_type": "code",
   "execution_count": 11,
   "metadata": {},
   "outputs": [],
   "source": [
    "tmp = rho_3.copy()\n",
    "tmp[~active_inds.astype(bool)] = np.nan"
   ]
  },
  {
   "cell_type": "code",
   "execution_count": 12,
   "metadata": {},
   "outputs": [],
   "source": [
    "from matplotlib.colors import LogNorm"
   ]
  },
  {
   "cell_type": "code",
   "execution_count": 13,
   "metadata": {},
   "outputs": [
    {
     "data": {
      "text/plain": [
       "(<matplotlib.collections.QuadMesh at 0x2afc2d0db9d0>,)"
      ]
     },
     "execution_count": 13,
     "metadata": {},
     "output_type": "execute_result"
    },
    {
     "data": {
      "image/png": "[encoded data removed]",
      "text/plain": [
       "<Figure size 432x288 with 1 Axes>"
      ]
     },
     "metadata": {
      "needs_background": "light"
     },
     "output_type": "display_data"
    }
   ],
   "source": [
    "mesh.plotSlice(rho_3, clim=(0.3, 100), normal='y', pcolorOpts={'norm':LogNorm(), 'cmap':'jet'})"
   ]
  },
  {
   "cell_type": "code",
   "execution_count": 14,
   "metadata": {},
   "outputs": [],
   "source": [
    "xmin, xmax = 0, 2800\n",
    "# generate survey\n",
    "x_inds = np.argwhere(np.logical_and(mesh.vectorCCx > xmin, mesh.vectorCCx < xmax))\n",
    "x = mesh.vectorCCx[x_inds][1::2]\n",
    "y = np.zeros_like(x)\n",
    "src_height = 40.\n",
    "z = np.ones_like(x) * 0.\n",
    "src_locations = np.c_[x, y, z + src_height]\n",
    "rx_locations = np.c_[x+13.25, y, z+2.+ src_height]\n",
    "n_sounding = src_locations.shape[0]\n",
    "topo = np.c_[x, y, z*0.]"
   ]
  },
  {
   "cell_type": "code",
   "execution_count": 15,
   "metadata": {},
   "outputs": [
    {
     "name": "stdout",
     "output_type": "stream",
     "text": [
      ">> Set parameters\n"
     ]
    }
   ],
   "source": [
    "survey = get_skytem_survey(\n",
    "    topo,\n",
    "    src_locations,\n",
    "    rx_locations,\n",
    "    times_hm_304,\n",
    "    time_input_currents_hm_304,\n",
    "    input_currents_hm_304,\n",
    "    25.,\n",
    "    src_type=\"VMD\",\n",
    "    rx_type=\"dBzdt\",    \n",
    "    moment_type=\"dual\",        \n",
    "    time_dual_moment=times_lm_304,\n",
    "    time_input_currents_dual_moment=time_input_currents_lm_304,\n",
    "    input_currents_dual_moment=input_currents_lm_304,\n",
    "    base_frequency_dual_moment=210.,\n",
    "    wave_type=\"general\",    \n",
    "    field_type=\"secondary\",    \n",
    ")\n",
    "\n",
    "simulation = GlobalSkyTEM(\n",
    "    mesh, \n",
    "    sigma=1./rho_3, \n",
    "    actv=active_inds, \n",
    "    parallel_option='multiprocess'\n",
    ")\n",
    "simulation.pair(survey)"
   ]
  },
  {
   "cell_type": "code",
   "execution_count": 16,
   "metadata": {},
   "outputs": [
    {
     "name": "stdout",
     "output_type": "stream",
     "text": [
      "46\n"
     ]
    }
   ],
   "source": [
    "print (survey.n_sounding)"
   ]
  },
  {
   "cell_type": "code",
   "execution_count": 17,
   "metadata": {},
   "outputs": [],
   "source": [
    "# write inputs to the disk\n",
    "simulation.write_inputs_on_disk_pool()"
   ]
  },
  {
   "cell_type": "code",
   "execution_count": 18,
   "metadata": {},
   "outputs": [
    {
     "name": "stdout",
     "output_type": "stream",
     "text": [
      "CPU times: user 55 ms, sys: 160 ms, total: 215 ms\n",
      "Wall time: 12.8 s\n"
     ]
    }
   ],
   "source": [
    "%time data = simulation.forward(1./rho_3)"
   ]
  },
  {
   "cell_type": "code",
   "execution_count": 19,
   "metadata": {},
   "outputs": [],
   "source": [
    "np.save('./data/data_2', data)"
   ]
  },
  {
   "cell_type": "code",
   "execution_count": 20,
   "metadata": {},
   "outputs": [],
   "source": [
    "DATA = data.reshape((times_hm_304.size+times_lm_304.size, n_sounding), order='F')\n",
    "DATA_HM = -DATA[:times_hm_304.size,:]\n",
    "DATA_LM = -DATA[times_hm_304.size:,:]"
   ]
  },
  {
   "cell_type": "code",
   "execution_count": 21,
   "metadata": {},
   "outputs": [
    {
     "data": {
      "text/plain": [
       "[<matplotlib.lines.Line2D at 0x2afc3c3ca690>]"
      ]
     },
     "execution_count": 21,
     "metadata": {},
     "output_type": "execute_result"
    },
    {
     "data": {
      "image/png": "[encoded data removed]",
      "text/plain": [
       "<Figure size 432x288 with 1 Axes>"
      ]
     },
     "metadata": {
      "needs_background": "light"
     },
     "output_type": "display_data"
    }
   ],
   "source": [
    "i_sounding = 0\n",
    "plt.loglog(times_hm_304, DATA_HM[:,i_sounding])\n",
    "plt.loglog(times_lm_304, DATA_LM[:,i_sounding])"
   ]
  }
 ],
 "metadata": {
  "kernelspec": {
   "display_name": "Python 3",
   "language": "python",
   "name": "python3"
  },
  "language_info": {
   "codemirror_mode": {
    "name": "ipython",
    "version": 3
   },
   "file_extension": ".py",
   "mimetype": "text/x-python",
   "name": "python",
   "nbconvert_exporter": "python",
   "pygments_lexer": "ipython3",
   "version": "3.6.8"
  }
 },
 "nbformat": 4,
 "nbformat_minor": 2
}
