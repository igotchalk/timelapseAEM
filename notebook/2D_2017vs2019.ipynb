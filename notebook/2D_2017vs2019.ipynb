{
 "cells": [
  {
   "cell_type": "code",
   "execution_count": 1,
   "metadata": {},
   "outputs": [],
   "source": [
    "from SimPEG import Mesh, Utils, EM, Maps\n",
    "from pymatsolver import Pardiso\n",
    "from scipy.constants import mu_0\n",
    "import numpy as np\n",
    "import matplotlib.pyplot as plt\n",
    "%matplotlib inline\n",
    "from pyMKL import mkl_set_num_threads\n",
    "from multiprocessing import Pool\n",
    "from SimPEG import Mesh\n",
    "import pandas as pd\n",
    "\n",
    "from pathlib import Path\n",
    "import pandas as pd\n",
    "import fileinput\n",
    "import cartopy"
   ]
  },
  {
   "cell_type": "code",
   "execution_count": 3,
   "metadata": {},
   "outputs": [
    {
     "data": {
      "text/plain": [
       "['/Users/ianpg/anaconda/envs/SWIenv/lib/python3.6/site-packages/simpegEM1D']"
      ]
     },
     "execution_count": 3,
     "metadata": {},
     "output_type": "execute_result"
    }
   ],
   "source": [
    "import simpegEM1D\n",
    "simpegEM1D.__path__"
   ]
  },
  {
   "cell_type": "code",
   "execution_count": 4,
   "metadata": {},
   "outputs": [],
   "source": [
    "datadir = Path('../data/raw_data')\n",
    "data17dir = datadir.joinpath('AEM_data_raw_2017')\n",
    "data19dir = datadir.joinpath('AEM_data_raw_2019')\n",
    "\n",
    "\n",
    "\n",
    "data17 = datadir.joinpath('AEM_data_2017','MCWD3_SCI1i_MOD_dat.xyz')\n",
    "data19 = datadir.joinpath('AEM_data_2019','MCWD19_SCI8i_MOD_dat.xyz')"
   ]
  },
  {
   "cell_type": "code",
   "execution_count": 5,
   "metadata": {},
   "outputs": [],
   "source": [
    "def rm_leadspace(f_name):\n",
    "    for line in fileinput.input(f_name,inplace = True):\n",
    "        if line.startswith('/ '):\n",
    "            print(line.lstrip('/ ').rstrip('\\n'))\n",
    "        else:\n",
    "            print(line.rstrip('\\n'))\n",
    "    fileinput.close()\n",
    "\n",
    "    \n",
    "xyz_dirs = (data17.parent,data19.parent,data17dir,data19dir)\n",
    "\n",
    "for d in xyz_dirs:\n",
    "    for f in d.iterdir():\n",
    "        if f.as_posix().endswith('xyz'):\n",
    "            rm_leadspace(f.as_posix())"
   ]
  },
  {
   "cell_type": "code",
   "execution_count": null,
   "metadata": {},
   "outputs": [],
   "source": []
  },
  {
   "cell_type": "code",
   "execution_count": 10,
   "metadata": {},
   "outputs": [],
   "source": [
    "df17 = pd.read_csv(data17,header=20,delim_whitespace=True)\n",
    "df19 = pd.read_csv(data19,header=20,delim_whitespace=True)\n",
    "\n",
    "df17 = df17.assign(skytem_type=304)\n",
    "df19 = df19.assign(skytem_type=312)\n",
    "# df = pd.concat((df17,df19),sort=False)\n",
    "\n",
    "\n",
    "\n",
    "line = 100501\n",
    "\n",
    "header=20\n",
    "for i,f in enumerate(data17dir.iterdir()):\n",
    "    if i==0:\n",
    "        df = pd.read_csv(f,header=header,delim_whitespace=True)\n",
    "        df = df.assign(FLIGHT_NO=f.name.split('_')[0])\n",
    "        df = df.assign(skytem_type=304)\n",
    "    else:\n",
    "        df_temp = pd.read_csv(f,header=header,delim_whitespace=True)\n",
    "        df_temp = df_temp.assign(FLIGHT_NO=f.name.split('_')[0])\n",
    "        df_temp = df_temp.assign(skytem_type=304)\n",
    "        df = pd.concat((df,df_temp))\n",
    "\n",
    "# for i,f in enumerate(data19dir.iterdir()):\n",
    "#     if i==0:\n",
    "#         df = pd.read_csv(f,header=header,delim_whitespace=True)\n",
    "#         df = df.assign(FLIGHT_NO=f.name.split('_')[0])\n",
    "#         df = df.assign(skytem_type=312)\n",
    "#     else:\n",
    "#         df_temp = pd.read_csv(f,header=header,delim_whitespace=True)\n",
    "#         df_temp = df_temp.assign(FLIGHT_NO=f.name.split('_')[0])\n",
    "#         df_temp = df_temp.assign(skytem_type=312)\n",
    "#         df = pd.concat((df,df_temp))\n"
   ]
  },
  {
   "cell_type": "code",
   "execution_count": null,
   "metadata": {},
   "outputs": [],
   "source": []
  },
  {
   "cell_type": "code",
   "execution_count": 11,
   "metadata": {},
   "outputs": [],
   "source": [
    "i_start_hm = 10\n",
    "i_start_lm = 10\n",
    "\n",
    "lm_inds = np.array(['DBDT_Ch1' in key.split('GT') for key in df.keys()], dtype=bool)\n",
    "hm_inds = np.array(['DBDT_Ch2' in key.split('GT') for key in df.keys()], dtype=bool)\n",
    "dbdt_inds = np.array([key.startswith('DBDT') for key in df.keys()], dtype=bool)\n",
    "\n",
    "lm_header = (df.keys()[lm_inds])[i_start_lm:]\n",
    "hm_header = (df.keys()[hm_inds])[i_start_hm:]"
   ]
  },
  {
   "cell_type": "markdown",
   "metadata": {},
   "source": [
    "#### Weave in blank HM soundings into repeated LM (and LM into repeated HM)"
   ]
  },
  {
   "cell_type": "code",
   "execution_count": 12,
   "metadata": {},
   "outputs": [],
   "source": [
    "df = df.reset_index()\n",
    "df = df.rename(columns={'index':'index_orig'})\n",
    "df.index = df.index.astype(np.float)\n",
    "\n",
    "repeat_inds = df.CHANNEL_NO.diff()==0\n",
    "repeat_channel = df.CHANNEL_NO.loc[repeat_inds].values\n",
    "new_channel = np.asarray([2 if v==1 else 1 for v in repeat_channel])\n",
    "\n",
    "repeat_info = df.loc[repeat_inds,:].copy()\n",
    "repeat_info.loc[:,dbdt_inds] = 9999\n",
    "repeat_info.loc[:,'CHANNEL_NO'] = new_channel\n",
    "\n",
    "ind_list = repeat_info.index.tolist()\n",
    "for i,ind in enumerate(repeat_info.index):\n",
    "    ind_list[i] += -0.5\n",
    "repeat_info.index = ind_list\n",
    "df = df.append(repeat_info)\n",
    "df = df.sort_index()\n",
    "\n",
    "\n",
    "#Check beginning and end\n",
    "last_ind = df.index.max()\n",
    "first_ind = df.index.min()\n",
    "if df.loc[last_ind].CHANNEL_NO==1:\n",
    "    row = df.loc[last_ind].copy()\n",
    "    row.CHANNEL_NO = 2\n",
    "    row.loc[dbdt_inds] = 9999\n",
    "    df.loc[last_ind+.5] = row\n",
    "if df.loc[first_ind].CHANNEL_NO==2:\n",
    "    row = df.loc[first_ind].copy()\n",
    "    row.CHANNEL_NO = 2\n",
    "    row.loc[dbdt_inds] = 9999\n",
    "    df.loc[first_ind-.5] = row\n"
   ]
  },
  {
   "cell_type": "code",
   "execution_count": 13,
   "metadata": {},
   "outputs": [
    {
     "data": {
      "text/plain": [
       "Text(0.5, 1.0, 'Inverted data: flight line 100501')"
      ]
     },
     "execution_count": 13,
     "metadata": {},
     "output_type": "execute_result"
    },
    {
     "data": {
      "image/png": "[encoded data removed]",
      "text/plain": [
       "<Figure size 576x720 with 4 Axes>"
      ]
     },
     "metadata": {
      "needs_background": "light"
     },
     "output_type": "display_data"
    }
   ],
   "source": [
    "f,axs = plt.subplots(2,1,figsize=(8,10))\n",
    "plt.sca(axs.flatten()[0])\n",
    "ax = plt.gca()\n",
    "plt.scatter(df.loc[df.LINE_NO==line,'UTMX'],\n",
    "            df.loc[df.LINE_NO==line,'UTMY'],\n",
    "            s=5,\n",
    "            c=df.loc[df.LINE_NO==line,'ELEVATION'],\n",
    "            label='2017')\n",
    "\n",
    "\n",
    "\n",
    "plt.grid(True)\n",
    "plt.colorbar()\n",
    "plt.legend()\n",
    "plt.xlabel('Easting')\n",
    "plt.ylabel('Northing')\n",
    "plt.title('Raw data: AEM flight line {}'.format(line))\n",
    "\n",
    "\n",
    "\n",
    "plt.sca(axs.flatten()[1])\n",
    "ax = plt.gca()\n",
    "plt.scatter(df17.loc[df17.LINE==line,'X'],\n",
    "            df17.loc[df17.LINE==line,'Y'],\n",
    "            s=5,\n",
    "            c=df17.loc[df17.LINE==line,'TOPO'],\n",
    "            label='2017')\n",
    "# plt.scatter(df19.loc[df19.LINE==line,'X'],df19.loc[df19.LINE==line,'Y'],s=1,c='k',label='2019')\n",
    "plt.grid(True)\n",
    "plt.colorbar()\n",
    "plt.legend()\n",
    "plt.xlabel('Easting')\n",
    "plt.ylabel('Northing')\n",
    "plt.title('Inverted data: flight line {}'.format(line))"
   ]
  },
  {
   "cell_type": "code",
   "execution_count": 14,
   "metadata": {},
   "outputs": [],
   "source": [
    "#TAKE THE LOCATION OF CHANNEL 1 FOR EACH SOUNDING\n",
    "msk = np.ldf.CHANNEL_NO.isin((1,))\n",
    "xy = df.loc[msk,['UTMX', 'UTMY']].values\n",
    "Line = df.LINE_NO.values\n",
    "dem = df.loc[msk,'ELEVATION'].values[:]\n",
    "height = df.loc[msk,'TX_ALTITUDE'].values[:]\n",
    "rx_locations = np.c_[xy[:,:], height+dem+2.]\n",
    "src_locations = np.c_[xy[:,:], height+dem]\n",
    "topo = np.c_[xy[:,:], dem]\n",
    "skytem_type = df.skytem_type.values"
   ]
  },
  {
   "cell_type": "code",
   "execution_count": 15,
   "metadata": {},
   "outputs": [],
   "source": [
    "area = 342\n",
    "unit_conversion = 1e-12\n",
    "\n",
    "i_start_hm = 10\n",
    "i_start_lm = 10\n",
    "\n",
    "waveform_hm_312 = np.loadtxt(datadir.parent.joinpath('aem_waveform_marina/hm_312.txt'))\n",
    "waveform_lm_312 = np.loadtxt(datadir.parent.joinpath('aem_waveform_marina/lm_312.txt'))\n",
    "time_input_currents_HM_312 = waveform_hm_312[:,0] \n",
    "input_currents_HM_312 = waveform_hm_312[:,1]\n",
    "time_input_currents_LM_312 = waveform_lm_312[:,0] \n",
    "input_currents_LM_312 = waveform_lm_312[:,1]\n",
    "\n",
    "time_gates = np.loadtxt(datadir.parent.joinpath('aem_waveform_marina/time_gates.txt'))\n",
    "GateTimeShift=-2.09E-06\n",
    "MeaTimeDelay=0.000E+00\n",
    "NoGates=28\n",
    "t0_lm_312 = waveform_lm_312[:,0].max()\n",
    "times_lm_312 = (time_gates[:NoGates,0] + GateTimeShift + MeaTimeDelay)[i_start_lm:] - t0_lm_312\n",
    "\n",
    "GateTimeShift=-1.5E-06\n",
    "MeaTimeDelay=3.500E-04\n",
    "NoGates=37\n",
    "t0_hm_312 = waveform_hm_312[:,0].max()\n",
    "times_hm_312 = (time_gates[:NoGates,0] + GateTimeShift + MeaTimeDelay)[i_start_hm:] - t0_hm_312    "
   ]
  },
  {
   "cell_type": "code",
   "execution_count": 16,
   "metadata": {},
   "outputs": [],
   "source": [
    "area = 342\n",
    "unit_conversion = 1e-12\n",
    "\n",
    "i_start_hm = 10\n",
    "i_start_lm = 10\n",
    "\n",
    "waveform_hm_304 = np.loadtxt(datadir.parent.joinpath('aem_waveform_marina/hm_304.txt'))\n",
    "waveform_lm_304 = np.loadtxt(datadir.parent.joinpath('aem_waveform_marina/lm_304.txt'))\n",
    "time_input_currents_HM_304 = waveform_hm_304[:,0] \n",
    "input_currents_HM_304 = waveform_hm_304[:,1]\n",
    "time_input_currents_LM_304 = waveform_lm_304[:,0] \n",
    "input_currents_LM_304 = waveform_lm_304[:,1]\n",
    "\n",
    "time_gates = np.loadtxt(datadir.parent.joinpath('aem_waveform_marina/time_gates.txt'))\n",
    "GateTimeShift=-2.09E-06\n",
    "MeaTimeDelay=0.000E+00\n",
    "NoGates=28\n",
    "t0_lm_304 = waveform_lm_304[:,0].max()\n",
    "times_lm_304 = (time_gates[:NoGates,0] + GateTimeShift + MeaTimeDelay)[i_start_lm:] - t0_lm_304\n",
    "\n",
    "GateTimeShift=-1.5E-06\n",
    "MeaTimeDelay=6.000E-05\n",
    "NoGates=37\n",
    "t0_hm_304 = waveform_hm_304[:,0].max()\n",
    "times_hm_304 = (time_gates[:NoGates,0] + GateTimeShift + MeaTimeDelay)[i_start_hm:] - t0_hm_304    "
   ]
  },
  {
   "cell_type": "code",
   "execution_count": 17,
   "metadata": {},
   "outputs": [
    {
     "data": {
      "text/plain": [
       "<matplotlib.legend.Legend at 0x129fb85f8>"
      ]
     },
     "execution_count": 17,
     "metadata": {},
     "output_type": "execute_result"
    },
    {
     "data": {
      "image/png": "[encoded data removed]",
      "text/plain": [
       "<Figure size 432x288 with 1 Axes>"
      ]
     },
     "metadata": {
      "needs_background": "light"
     },
     "output_type": "display_data"
    }
   ],
   "source": [
    "plt.plot(time_input_currents_LM_304, input_currents_LM_304,label='304')\n",
    "plt.plot(time_input_currents_LM_312, input_currents_LM_312,label='312')\n",
    "plt.legend()"
   ]
  },
  {
   "cell_type": "code",
   "execution_count": 18,
   "metadata": {},
   "outputs": [
    {
     "data": {
      "text/plain": [
       "<matplotlib.legend.Legend at 0x12b1c24e0>"
      ]
     },
     "execution_count": 18,
     "metadata": {},
     "output_type": "execute_result"
    },
    {
     "data": {
      "image/png": "[encoded data removed]",
      "text/plain": [
       "<Figure size 432x288 with 1 Axes>"
      ]
     },
     "metadata": {
      "needs_background": "light"
     },
     "output_type": "display_data"
    }
   ],
   "source": [
    "plt.plot(time_input_currents_HM_304, input_currents_HM_304,label='304')\n",
    "plt.plot(time_input_currents_HM_312, input_currents_HM_312,label='312')\n",
    "plt.legend()"
   ]
  },
  {
   "cell_type": "markdown",
   "metadata": {},
   "source": [
    "##### CHeck to make sure that HM 304 is correect (look at 304 TEM files)\n",
    "##### Check units (V/m2 or V/m4, dont normalize by area if V/m4)"
   ]
  },
  {
   "cell_type": "raw",
   "metadata": {},
   "source": [
    "df_resistivity = pd.read_csv(\"../skytem_xyz/from_agf/skytem-resistivity-final.csv\")\n",
    "df_resistivity = df_resistivity.drop(columns=[df_resistivity.keys()[0]])\n",
    "thk_ind = (np.array([key.split('_')[0] for key in df_resistivity.keys()]) == 'THK')\n",
    "thk_ind = np.arange(thk_ind.size)[thk_ind]\n",
    "thk_ind_304 = thk_ind[(np.array([key.split('_')[1] for key in df_resistivity.keys()[thk_ind]]) == '304')]\n",
    "thk_ind_312 = thk_ind[(np.array([key.split('_')[1] for key in df_resistivity.keys()[thk_ind]]) == '312')]\n",
    "hz_312 = df_resistivity[df_resistivity.keys()[thk_ind_312]]\n",
    "hz_304 = df_resistivity[df_resistivity.keys()[thk_ind_304]]\n",
    "inds_312 = df_resistivity.SkyTEM_TYPE.values == 312.\n",
    "inds_304 = df_resistivity.SkyTEM_TYPE.values == 304.\n"
   ]
  },
  {
   "cell_type": "code",
   "execution_count": 19,
   "metadata": {},
   "outputs": [],
   "source": [
    "from SimPEG import (\n",
    "    Regularization, Directives, Inversion, \n",
    "    InvProblem, Optimization, DataMisfit, Utils, Maps\n",
    ")\n",
    "from simpegEM1D import (\n",
    "    GlobalEM1DProblemTD, GlobalEM1DSurveyTD, \n",
    "    get_vertical_discretization_time, EM1DSurveyTD,\n",
    "    get_2d_mesh, LateralConstraint, \n",
    ")\n",
    "from pymatsolver import PardisoSolver\n",
    "hz_312 = np.loadtxt(datadir.joinpath('AEM_data_2019','thickness.txt'))\n",
    "hz_304 = np.loadtxt(datadir.joinpath('AEM_data_2017','thickness.txt'))\n",
    "\n",
    "\n",
    "hz = hz_304\n",
    "# hz = np.unique(hz_312.values[inds_312,:])* 0.3048\n",
    "# hz = np.unique(hz_304.values[inds_304,:])* 0.3048\n",
    "n_sounding = xy.shape[0]\n",
    "mesh = get_2d_mesh(n_sounding, hz)"
   ]
  },
  {
   "cell_type": "code",
   "execution_count": 20,
   "metadata": {},
   "outputs": [
    {
     "data": {
      "text/html": [
       "<table>\n",
       "  <tr>\n",
       "    <td style='font-weight: bold; font-size: 1.2em; text-align: center;' colspan='3'>TensorMesh</td\n",
       ">    <td style='font-size: 1.2em; text-align: center;'colspan='4'>579,188 cells</td>\n",
       "  </tr>\n",
       "  <tr>\n",
       "    <th></th\n",
       ">    <th></th\n",
       ">    <th colspan='2' style='padding: 5px 20px 5px 20px;'>MESH EXTENT</th\n",
       ">    <th colspan='2' style='padding: 5px 20px 5px 20px;'>CELL WIDTH</th\n",
       ">    <th style='padding: 5px 20px 5px 20px;'>FACTOR</th\n",
       ">  </tr\n",
       ">  <tr>\n",
       "    <th style='padding: 5px 20px 5px 20px;'>dir</th>\n",
       "    <th style='padding: 5px 20px 5px 20px;'>nC</th>\n",
       "    <th style='padding: 5px 20px 5px 20px;'>min</th>\n",
       "    <th style='padding: 5px 20px 5px 20px;'>max</th>\n",
       "    <th style='padding: 5px 20px 5px 20px;'>min</th>\n",
       "    <th style='padding: 5px 20px 5px 20px;'>max</th>\n",
       "    <th style='padding: 5px 20px 5px 20px;'>max</th>\n",
       "  </tr>\n",
       "  <tr>\n",
       "    <td style='padding: 5px 20px 5px 20px;'>x</td>\n",
       "    <td style='padding: 5px 20px 5px 20px;'>29</td>\n",
       "    <td style='padding: 5px 20px 5px 20px;'>0.00</td>\n",
       "    <td style='padding: 5px 20px 5px 20px;'>312.00</td>\n",
       "    <td style='padding: 5px 20px 5px 20px;'>3.00</td>\n",
       "    <td style='padding: 5px 20px 5px 20px;'>25.90</td>\n",
       "    <td style='padding: 5px 20px 5px 20px;'>1.10</td>\n",
       "  </tr>\n",
       "  <tr>\n",
       "    <td style='padding: 5px 20px 5px 20px;'>y</td>\n",
       "    <td style='padding: 5px 20px 5px 20px;'>19972</td>\n",
       "    <td style='padding: 5px 20px 5px 20px;'>0.00</td>\n",
       "    <td style='padding: 5px 20px 5px 20px;'>19,972.00</td>\n",
       "    <td style='padding: 5px 20px 5px 20px;'>1.00</td>\n",
       "    <td style='padding: 5px 20px 5px 20px;'>1.00</td>\n",
       "    <td style='padding: 5px 20px 5px 20px;'>1.00</td>\n",
       "  </tr>\n",
       "</table>\n"
      ],
      "text/plain": [
       "\n",
       "  TensorMesh: 579,188 cells\n",
       "\n",
       "                      MESH EXTENT             CELL WIDTH      FACTOR\n",
       "  dir    nC        min           max         min       max      max\n",
       "  ---   ---  ---------------------------  ------------------  ------\n",
       "   x     29          0.00        312.00      3.00     25.90    1.10\n",
       "   y  19972          0.00     19,972.00      1.00      1.00    1.00\n"
      ]
     },
     "execution_count": 20,
     "metadata": {},
     "output_type": "execute_result"
    }
   ],
   "source": [
    "mesh"
   ]
  },
  {
   "cell_type": "code",
   "execution_count": 21,
   "metadata": {},
   "outputs": [
    {
     "data": {
      "text/plain": [
       "27"
      ]
     },
     "execution_count": 21,
     "metadata": {},
     "output_type": "execute_result"
    }
   ],
   "source": [
    "len(times_hm_304)"
   ]
  },
  {
   "cell_type": "code",
   "execution_count": 22,
   "metadata": {},
   "outputs": [],
   "source": [
    "time = []\n",
    "time_dual_moment = []\n",
    "input_currents = []\n",
    "time_input_currents = []\n",
    "input_currents_dual_moment = []\n",
    "time_input_currents_dual_moment = []\n",
    "\n",
    "for i_sounding in range(n_sounding):\n",
    "    if skytem_type[i_sounding] == 312.:\n",
    "        time.append(times_hm_312)\n",
    "        time_dual_moment.append(times_lm_312)\n",
    "        time_input_currents.append(time_input_currents_HM_312)\n",
    "        input_currents.append(input_currents_HM_312)\n",
    "        time_input_currents_dual_moment.append(time_input_currents_LM_312)\n",
    "        input_currents_dual_moment.append(input_currents_LM_312)        \n",
    "    else:\n",
    "        time.append(times_hm_304)\n",
    "        time_dual_moment.append(times_lm_304)\n",
    "        time_input_currents.append(time_input_currents_HM_304)\n",
    "        input_currents.append(input_currents_HM_304)\n",
    "        time_input_currents_dual_moment.append(time_input_currents_LM_304)\n",
    "        input_currents_dual_moment.append(input_currents_LM_304)        "
   ]
  },
  {
   "cell_type": "code",
   "execution_count": 23,
   "metadata": {},
   "outputs": [
    {
     "data": {
      "text/plain": [
       "18"
      ]
     },
     "execution_count": 23,
     "metadata": {},
     "output_type": "execute_result"
    }
   ],
   "source": [
    "len(time_dual_moment[0])"
   ]
  },
  {
   "cell_type": "code",
   "execution_count": 24,
   "metadata": {},
   "outputs": [
    {
     "ename": "NameError",
     "evalue": "name 'survey' is not defined",
     "output_type": "error",
     "traceback": [
      "\u001b[0;31m---------------------------------------------------------------------------\u001b[0m",
      "\u001b[0;31mNameError\u001b[0m                                 Traceback (most recent call last)",
      "\u001b[0;32m<ipython-input-24-2bd7ba13ffc6>\u001b[0m in \u001b[0;36m<module>\u001b[0;34m\u001b[0m\n\u001b[0;32m----> 1\u001b[0;31m \u001b[0mprint\u001b[0m\u001b[0;34m(\u001b[0m\u001b[0msurvey\u001b[0m\u001b[0;34m.\u001b[0m\u001b[0mnD\u001b[0m\u001b[0;34m)\u001b[0m\u001b[0;34m\u001b[0m\u001b[0;34m\u001b[0m\u001b[0m\n\u001b[0m\u001b[1;32m      2\u001b[0m \u001b[0mprint\u001b[0m\u001b[0;34m(\u001b[0m\u001b[0msrc_locations\u001b[0m\u001b[0;34m.\u001b[0m\u001b[0mshape\u001b[0m\u001b[0;34m)\u001b[0m\u001b[0;34m\u001b[0m\u001b[0;34m\u001b[0m\u001b[0m\n\u001b[1;32m      3\u001b[0m \u001b[0mprint\u001b[0m\u001b[0;34m(\u001b[0m\u001b[0mn_sounding\u001b[0m\u001b[0;34m)\u001b[0m\u001b[0;34m\u001b[0m\u001b[0;34m\u001b[0m\u001b[0m\n\u001b[1;32m      4\u001b[0m \u001b[0mprint\u001b[0m\u001b[0;34m(\u001b[0m\u001b[0mlen\u001b[0m\u001b[0;34m(\u001b[0m\u001b[0mtime\u001b[0m\u001b[0;34m)\u001b[0m\u001b[0;34m*\u001b[0m\u001b[0mlen\u001b[0m\u001b[0;34m(\u001b[0m\u001b[0mtime\u001b[0m\u001b[0;34m[\u001b[0m\u001b[0;36m0\u001b[0m\u001b[0;34m]\u001b[0m\u001b[0;34m)\u001b[0m \u001b[0;34m+\u001b[0m \u001b[0mlen\u001b[0m\u001b[0;34m(\u001b[0m\u001b[0mtime_dual_moment\u001b[0m\u001b[0;34m)\u001b[0m\u001b[0;34m*\u001b[0m\u001b[0mlen\u001b[0m\u001b[0;34m(\u001b[0m\u001b[0mtime_dual_moment\u001b[0m\u001b[0;34m[\u001b[0m\u001b[0;36m0\u001b[0m\u001b[0;34m]\u001b[0m\u001b[0;34m)\u001b[0m\u001b[0;34m)\u001b[0m\u001b[0;34m\u001b[0m\u001b[0;34m\u001b[0m\u001b[0m\n\u001b[1;32m      5\u001b[0m \u001b[0mprint\u001b[0m\u001b[0;34m(\u001b[0m\u001b[0muncert\u001b[0m\u001b[0;34m.\u001b[0m\u001b[0mshape\u001b[0m\u001b[0;34m)\u001b[0m\u001b[0;34m\u001b[0m\u001b[0;34m\u001b[0m\u001b[0m\n",
      "\u001b[0;31mNameError\u001b[0m: name 'survey' is not defined"
     ]
    }
   ],
   "source": [
    "print(survey.nD)\n",
    "print(src_locations.shape)\n",
    "print(n_sounding)\n",
    "print(len(time)*len(time[0]) + len(time_dual_moment)*len(time_dual_moment[0]))\n",
    "print(uncert.shape)"
   ]
  },
  {
   "cell_type": "code",
   "execution_count": 25,
   "metadata": {},
   "outputs": [
    {
     "name": "stdout",
     "output_type": "stream",
     "text": [
      ">> Set parameters\n",
      ">> Use multiprocessing for parallelization\n",
      ">> n_cpu: 6\n"
     ]
    }
   ],
   "source": [
    "mapping = Maps.ExpMap(mesh)\n",
    "\n",
    "survey = GlobalEM1DSurveyTD(\n",
    "    rx_locations = rx_locations,\n",
    "    src_locations = src_locations,    \n",
    "    topo = topo,\n",
    "    time = time,\n",
    "    time_dual_moment = time_dual_moment,\n",
    "    src_type = np.array([\"VMD\"], dtype=str).repeat(n_sounding),\n",
    "    rx_type = np.array([\"dBzdt\"], dtype=str).repeat(n_sounding),    \n",
    "    offset = np.array([13.25], dtype=float).repeat(n_sounding).reshape([-1,1]),    \n",
    "    wave_type = np.array([\"general\"], dtype=str).repeat(n_sounding),    \n",
    "    field_type = np.array([\"secondary\"], dtype=str).repeat(n_sounding),    \n",
    "    input_currents=input_currents,\n",
    "    time_input_currents=time_input_currents,\n",
    "    base_frequency = np.array([30.]).repeat(n_sounding),\n",
    "    input_currents_dual_moment=input_currents_dual_moment,\n",
    "    time_input_currents_dual_moment=time_input_currents_dual_moment,\n",
    "    base_frequency_dual_moment = np.array([210.]).repeat(n_sounding),\n",
    "    moment_type=np.array([\"dual\"], dtype=str).repeat(n_sounding)\n",
    ")\n",
    "\n",
    "prob = GlobalEM1DProblemTD(\n",
    "    [], sigmaMap=mapping, hz=hz, parallel=True, n_cpu=6,\n",
    "    Solver=PardisoSolver\n",
    ")\n",
    "prob.pair(survey)"
   ]
  },
  {
   "cell_type": "code",
   "execution_count": 36,
   "metadata": {},
   "outputs": [
    {
     "data": {
      "text/plain": [
       "[<matplotlib.lines.Line2D at 0x14aa19fd0>]"
      ]
     },
     "execution_count": 36,
     "metadata": {},
     "output_type": "execute_result"
    },
    {
     "data": {
      "image/png": "[encoded data removed]",
      "text/plain": [
       "<Figure size 432x288 with 1 Axes>"
      ]
     },
     "metadata": {
      "needs_background": "light"
     },
     "output_type": "display_data"
    }
   ],
   "source": [
    "plt.plot(xy[:,0], xy[:,1], 'k.')"
   ]
  },
  {
   "cell_type": "code",
   "execution_count": 27,
   "metadata": {},
   "outputs": [
    {
     "data": {
      "text/plain": [
       "898740"
      ]
     },
     "execution_count": 27,
     "metadata": {},
     "output_type": "execute_result"
    }
   ],
   "source": [
    "survey.nD"
   ]
  },
  {
   "cell_type": "markdown",
   "metadata": {},
   "source": [
    "n_sounding = 19972\n",
    "\n",
    "nD_vec: 19972 long, 27 data points for each of the soundings (27*19972=539244)\n",
    "\n",
    "\n",
    "nD = 539244\n"
   ]
  },
  {
   "cell_type": "code",
   "execution_count": null,
   "metadata": {},
   "outputs": [],
   "source": []
  },
  {
   "cell_type": "code",
   "execution_count": null,
   "metadata": {},
   "outputs": [],
   "source": []
  },
  {
   "cell_type": "code",
   "execution_count": 28,
   "metadata": {},
   "outputs": [],
   "source": [
    "i_start_hm = 10\n",
    "i_start_lm = 10\n",
    "\n",
    "lm_inds = np.array(['DBDT_Ch1' in key.split('GT') for key in df.keys()], dtype=bool)\n",
    "hm_inds = np.array(['DBDT_Ch2' in key.split('GT') for key in df.keys()], dtype=bool)\n",
    "lm_header = (df.keys()[lm_inds])[i_start_lm:]\n",
    "hm_header = (df.keys()[hm_inds])[i_start_hm:]\n",
    "data_hm = df.loc[df.CHANNEL_NO==2,hm_header].values[:,:]\n",
    "data_lm = df.loc[df.CHANNEL_NO==1,lm_header].values[:,:]\n",
    "\n",
    "# dobs = np.hstack((data_hm, data_lm)).flatten() * unit_conversion"
   ]
  },
  {
   "cell_type": "code",
   "execution_count": 29,
   "metadata": {},
   "outputs": [],
   "source": [
    "floor_hm = 0.\n",
    "floor_lm = 0.\n",
    "std = 0.05\n",
    "data_hm[np.isnan(data_hm)] = 9999.\n",
    "data_lm[np.isnan(data_lm)] = 9999.\n",
    "dobs = np.hstack((data_hm/area, data_lm/area)).flatten()\n",
    "uncert = np.hstack((abs(data_hm/area)*std + floor_hm, abs(data_lm/area)*std + floor_lm)).flatten()\n",
    "survey.dobs = -dobs.copy() \n",
    "inactive_inds = dobs==9999./area\n",
    "uncert[inactive_inds] = np.Inf\n",
    "\n",
    "\n"
   ]
  },
  {
   "cell_type": "code",
   "execution_count": 30,
   "metadata": {},
   "outputs": [
    {
     "name": "stdout",
     "output_type": "stream",
     "text": [
      "survey.nD size 898740\n",
      "uncert size 898740\n"
     ]
    }
   ],
   "source": [
    "print('survey.nD size',survey.nD)\n",
    "print('uncert size',uncert.size)"
   ]
  },
  {
   "cell_type": "code",
   "execution_count": 31,
   "metadata": {},
   "outputs": [
    {
     "data": {
      "text/plain": [
       "539244"
      ]
     },
     "execution_count": 31,
     "metadata": {},
     "output_type": "execute_result"
    }
   ],
   "source": [
    "len(time)*len(time[0])"
   ]
  },
  {
   "cell_type": "code",
   "execution_count": 32,
   "metadata": {},
   "outputs": [
    {
     "data": {
      "text/plain": [
       "898740"
      ]
     },
     "execution_count": 32,
     "metadata": {},
     "output_type": "execute_result"
    }
   ],
   "source": [
    "uncert.size "
   ]
  },
  {
   "cell_type": "code",
   "execution_count": 33,
   "metadata": {},
   "outputs": [
    {
     "name": "stdout",
     "output_type": "stream",
     "text": [
      "SimPEG.DataMisfit.l2_DataMisfit assigning default std of 5%\n",
      "SimPEG.DataMisfit.l2_DataMisfit assigning default eps of 1e-5 * ||dobs||\n"
     ]
    }
   ],
   "source": [
    "mesh = get_2d_mesh(n_sounding, hz)\n",
    "m0 = np.ones(mesh.nC) * np.log(1./10.)\n",
    "regmap = Maps.IdentityMap(mesh)\n",
    "# mapping is required ... for IRLS\n",
    "reg = LateralConstraint(\n",
    "    mesh, mapping=regmap,\n",
    "    alpha_s = 1e-2,\n",
    "    alpha_x = 10.,\n",
    "    alpha_y = 1.,    \n",
    ")\n",
    "reg.get_grad_horizontal(xy[:,:], hz, dim=3, use_cell_weights=True, minimum_distance=1000.)\n",
    "\n",
    "np.random.seed(1)\n",
    "dmisfit = DataMisfit.l2_DataMisfit(survey)\n",
    "dmisfit.W = 1./uncert\n",
    "p = 0\n",
    "qx, qz = 1., 1.\n",
    "reg.norms = np.c_[p, qx, qz, 0.]\n",
    "IRLS = Directives.Update_IRLS(\n",
    "    maxIRLSiter=5, minGNiter=1, fix_Jmatrix=True,\n",
    "    betaSearch=False\n",
    ")\n",
    "opt = Optimization.ProjectedGNCG(maxIter = 30, maxIterCG=20)\n",
    "# opt.upper = m_upper\n",
    "# opt.lower = m_lower\n",
    "invProb = InvProblem.BaseInvProblem(dmisfit, reg, opt)\n",
    "beta = Directives.BetaSchedule(coolingFactor=2, coolingRate=1)\n",
    "betaest = Directives.BetaEstimate_ByEig(beta0_ratio=1.)\n",
    "target = Directives.TargetMisfit(chifact=0.84)\n",
    "sense = Directives.UpdateSensitivityWeights()\n",
    "save_model = Directives.SaveOutputDictEveryIteration(directory=\"./l2-m0-10ohmm-smooth/\")\n",
    "inv = Inversion.BaseInversion(invProb, directiveList=[beta, betaest, target, save_model, sense])\n",
    "prob.counter = opt.counter = Utils.Counter()\n",
    "opt.LSshorten = 0.5\n",
    "opt.remember('xc')"
   ]
  },
  {
   "cell_type": "code",
   "execution_count": 34,
   "metadata": {},
   "outputs": [
    {
     "name": "stdout",
     "output_type": "stream",
     "text": [
      "SimPEG.InvProblem will set Regularization.mref to m0.\n",
      "\n",
      "    SimPEG.InvProblem is setting bfgsH0 to the inverse of the eval2Deriv.\n",
      "    ***Done using same Solver and solverOpts as the problem***\n"
     ]
    },
    {
     "name": "stderr",
     "output_type": "stream",
     "text": [
      "Process ForkPoolWorker-10:\n",
      "Process ForkPoolWorker-11:\n",
      "Traceback (most recent call last):\n",
      "  File \"/Users/ianpg/anaconda/envs/SWIenv/lib/python3.6/multiprocessing/process.py\", line 258, in _bootstrap\n",
      "    self.run()\n",
      "  File \"/Users/ianpg/anaconda/envs/SWIenv/lib/python3.6/multiprocessing/process.py\", line 93, in run\n",
      "    self._target(*self._args, **self._kwargs)\n",
      "Process ForkPoolWorker-12:\n"
     ]
    },
    {
     "ename": "KeyboardInterrupt",
     "evalue": "",
     "output_type": "error",
     "traceback": [
      "\u001b[0;31m---------------------------------------------------------------------------\u001b[0m",
      "\u001b[0;31mKeyboardInterrupt\u001b[0m                         Traceback (most recent call last)",
      "\u001b[0;32m<ipython-input-34-022019f1948a>\u001b[0m in \u001b[0;36m<module>\u001b[0;34m\u001b[0m\n\u001b[0;32m----> 1\u001b[0;31m \u001b[0mmopt\u001b[0m \u001b[0;34m=\u001b[0m \u001b[0minv\u001b[0m\u001b[0;34m.\u001b[0m\u001b[0mrun\u001b[0m\u001b[0;34m(\u001b[0m\u001b[0mm0\u001b[0m\u001b[0;34m)\u001b[0m\u001b[0;34m\u001b[0m\u001b[0;34m\u001b[0m\u001b[0m\n\u001b[0m",
      "\u001b[0;32m~/anaconda/envs/SWIenv/lib/python3.6/site-packages/SimPEG/Utils/CounterUtils.py\u001b[0m in \u001b[0;36mwrapper\u001b[0;34m(self, *args, **kwargs)\u001b[0m\n\u001b[1;32m     97\u001b[0m         \u001b[0;32mif\u001b[0m \u001b[0mtype\u001b[0m\u001b[0;34m(\u001b[0m\u001b[0mcounter\u001b[0m\u001b[0;34m)\u001b[0m \u001b[0;32mis\u001b[0m \u001b[0mCounter\u001b[0m\u001b[0;34m:\u001b[0m\u001b[0;34m\u001b[0m\u001b[0;34m\u001b[0m\u001b[0m\n\u001b[1;32m     98\u001b[0m             \u001b[0mcounter\u001b[0m\u001b[0;34m.\u001b[0m\u001b[0mcountTic\u001b[0m\u001b[0;34m(\u001b[0m\u001b[0mself\u001b[0m\u001b[0;34m.\u001b[0m\u001b[0m__class__\u001b[0m\u001b[0;34m.\u001b[0m\u001b[0m__name__\u001b[0m\u001b[0;34m+\u001b[0m\u001b[0;34m'.'\u001b[0m\u001b[0;34m+\u001b[0m\u001b[0mf\u001b[0m\u001b[0;34m.\u001b[0m\u001b[0m__name__\u001b[0m\u001b[0;34m)\u001b[0m\u001b[0;34m\u001b[0m\u001b[0;34m\u001b[0m\u001b[0m\n\u001b[0;32m---> 99\u001b[0;31m         \u001b[0mout\u001b[0m \u001b[0;34m=\u001b[0m \u001b[0mf\u001b[0m\u001b[0;34m(\u001b[0m\u001b[0mself\u001b[0m\u001b[0;34m,\u001b[0m \u001b[0;34m*\u001b[0m\u001b[0margs\u001b[0m\u001b[0;34m,\u001b[0m \u001b[0;34m**\u001b[0m\u001b[0mkwargs\u001b[0m\u001b[0;34m)\u001b[0m\u001b[0;34m\u001b[0m\u001b[0;34m\u001b[0m\u001b[0m\n\u001b[0m\u001b[1;32m    100\u001b[0m         \u001b[0;32mif\u001b[0m \u001b[0mtype\u001b[0m\u001b[0;34m(\u001b[0m\u001b[0mcounter\u001b[0m\u001b[0;34m)\u001b[0m \u001b[0;32mis\u001b[0m \u001b[0mCounter\u001b[0m\u001b[0;34m:\u001b[0m\u001b[0;34m\u001b[0m\u001b[0;34m\u001b[0m\u001b[0m\n\u001b[1;32m    101\u001b[0m             \u001b[0mcounter\u001b[0m\u001b[0;34m.\u001b[0m\u001b[0mcountToc\u001b[0m\u001b[0;34m(\u001b[0m\u001b[0mself\u001b[0m\u001b[0;34m.\u001b[0m\u001b[0m__class__\u001b[0m\u001b[0;34m.\u001b[0m\u001b[0m__name__\u001b[0m\u001b[0;34m+\u001b[0m\u001b[0;34m'.'\u001b[0m\u001b[0;34m+\u001b[0m\u001b[0mf\u001b[0m\u001b[0;34m.\u001b[0m\u001b[0m__name__\u001b[0m\u001b[0;34m)\u001b[0m\u001b[0;34m\u001b[0m\u001b[0;34m\u001b[0m\u001b[0m\n",
      "\u001b[0;32m~/anaconda/envs/SWIenv/lib/python3.6/site-packages/SimPEG/Inversion.py\u001b[0m in \u001b[0;36mrun\u001b[0;34m(self, m0)\u001b[0m\n\u001b[1;32m     63\u001b[0m         \"\"\"\n\u001b[1;32m     64\u001b[0m         \u001b[0mself\u001b[0m\u001b[0;34m.\u001b[0m\u001b[0minvProb\u001b[0m\u001b[0;34m.\u001b[0m\u001b[0mstartup\u001b[0m\u001b[0;34m(\u001b[0m\u001b[0mm0\u001b[0m\u001b[0;34m)\u001b[0m\u001b[0;34m\u001b[0m\u001b[0;34m\u001b[0m\u001b[0m\n\u001b[0;32m---> 65\u001b[0;31m         \u001b[0mself\u001b[0m\u001b[0;34m.\u001b[0m\u001b[0mdirectiveList\u001b[0m\u001b[0;34m.\u001b[0m\u001b[0mcall\u001b[0m\u001b[0;34m(\u001b[0m\u001b[0;34m'initialize'\u001b[0m\u001b[0;34m)\u001b[0m\u001b[0;34m\u001b[0m\u001b[0;34m\u001b[0m\u001b[0m\n\u001b[0m\u001b[1;32m     66\u001b[0m         \u001b[0mprint\u001b[0m\u001b[0;34m(\u001b[0m\u001b[0;34m'model has any nan: {:b}'\u001b[0m\u001b[0;34m.\u001b[0m\u001b[0mformat\u001b[0m\u001b[0;34m(\u001b[0m\u001b[0mnp\u001b[0m\u001b[0;34m.\u001b[0m\u001b[0many\u001b[0m\u001b[0;34m(\u001b[0m\u001b[0mnp\u001b[0m\u001b[0;34m.\u001b[0m\u001b[0misnan\u001b[0m\u001b[0;34m(\u001b[0m\u001b[0mself\u001b[0m\u001b[0;34m.\u001b[0m\u001b[0minvProb\u001b[0m\u001b[0;34m.\u001b[0m\u001b[0mmodel\u001b[0m\u001b[0;34m)\u001b[0m\u001b[0;34m)\u001b[0m\u001b[0;34m)\u001b[0m\u001b[0;34m)\u001b[0m\u001b[0;34m\u001b[0m\u001b[0;34m\u001b[0m\u001b[0m\n\u001b[1;32m     67\u001b[0m         \u001b[0mself\u001b[0m\u001b[0;34m.\u001b[0m\u001b[0mm\u001b[0m \u001b[0;34m=\u001b[0m \u001b[0mself\u001b[0m\u001b[0;34m.\u001b[0m\u001b[0mopt\u001b[0m\u001b[0;34m.\u001b[0m\u001b[0mminimize\u001b[0m\u001b[0;34m(\u001b[0m\u001b[0mself\u001b[0m\u001b[0;34m.\u001b[0m\u001b[0minvProb\u001b[0m\u001b[0;34m.\u001b[0m\u001b[0mevalFunction\u001b[0m\u001b[0;34m,\u001b[0m \u001b[0mself\u001b[0m\u001b[0;34m.\u001b[0m\u001b[0minvProb\u001b[0m\u001b[0;34m.\u001b[0m\u001b[0mmodel\u001b[0m\u001b[0;34m)\u001b[0m\u001b[0;34m\u001b[0m\u001b[0;34m\u001b[0m\u001b[0m\n",
      "\u001b[0;32m~/anaconda/envs/SWIenv/lib/python3.6/site-packages/SimPEG/Directives.py\u001b[0m in \u001b[0;36mcall\u001b[0;34m(self, ruleType)\u001b[0m\n\u001b[1;32m    173\u001b[0m         )\n\u001b[1;32m    174\u001b[0m         \u001b[0;32mfor\u001b[0m \u001b[0mr\u001b[0m \u001b[0;32min\u001b[0m \u001b[0mself\u001b[0m\u001b[0;34m.\u001b[0m\u001b[0mdList\u001b[0m\u001b[0;34m:\u001b[0m\u001b[0;34m\u001b[0m\u001b[0;34m\u001b[0m\u001b[0m\n\u001b[0;32m--> 175\u001b[0;31m             \u001b[0mgetattr\u001b[0m\u001b[0;34m(\u001b[0m\u001b[0mr\u001b[0m\u001b[0;34m,\u001b[0m \u001b[0mruleType\u001b[0m\u001b[0;34m)\u001b[0m\u001b[0;34m(\u001b[0m\u001b[0;34m)\u001b[0m\u001b[0;34m\u001b[0m\u001b[0;34m\u001b[0m\u001b[0m\n\u001b[0m\u001b[1;32m    176\u001b[0m \u001b[0;34m\u001b[0m\u001b[0m\n\u001b[1;32m    177\u001b[0m     \u001b[0;32mdef\u001b[0m \u001b[0mvalidate\u001b[0m\u001b[0;34m(\u001b[0m\u001b[0mself\u001b[0m\u001b[0;34m)\u001b[0m\u001b[0;34m:\u001b[0m\u001b[0;34m\u001b[0m\u001b[0;34m\u001b[0m\u001b[0m\n",
      "\u001b[0;32m~/anaconda/envs/SWIenv/lib/python3.6/site-packages/SimPEG/Directives.py\u001b[0m in \u001b[0;36minitialize\u001b[0;34m(self)\u001b[0m\n\u001b[1;32m    229\u001b[0m                 \u001b[0mt\u001b[0m \u001b[0;34m+=\u001b[0m \u001b[0mx0\u001b[0m\u001b[0;34m.\u001b[0m\u001b[0mdot\u001b[0m\u001b[0;34m(\u001b[0m\u001b[0mdmis\u001b[0m\u001b[0;34m.\u001b[0m\u001b[0mderiv2\u001b[0m\u001b[0;34m(\u001b[0m\u001b[0mm\u001b[0m\u001b[0;34m,\u001b[0m \u001b[0mx0\u001b[0m\u001b[0;34m,\u001b[0m \u001b[0mf\u001b[0m\u001b[0;34m=\u001b[0m\u001b[0mf\u001b[0m\u001b[0;34m[\u001b[0m\u001b[0mi_count\u001b[0m\u001b[0;34m]\u001b[0m\u001b[0;34m)\u001b[0m\u001b[0;34m)\u001b[0m\u001b[0;34m\u001b[0m\u001b[0;34m\u001b[0m\u001b[0m\n\u001b[1;32m    230\u001b[0m             \u001b[0;32melse\u001b[0m\u001b[0;34m:\u001b[0m\u001b[0;34m\u001b[0m\u001b[0;34m\u001b[0m\u001b[0m\n\u001b[0;32m--> 231\u001b[0;31m                 \u001b[0mt\u001b[0m \u001b[0;34m+=\u001b[0m \u001b[0mx0\u001b[0m\u001b[0;34m.\u001b[0m\u001b[0mdot\u001b[0m\u001b[0;34m(\u001b[0m\u001b[0mdmis\u001b[0m\u001b[0;34m.\u001b[0m\u001b[0mderiv2\u001b[0m\u001b[0;34m(\u001b[0m\u001b[0mm\u001b[0m\u001b[0;34m,\u001b[0m \u001b[0mx0\u001b[0m\u001b[0;34m,\u001b[0m \u001b[0mf\u001b[0m\u001b[0;34m=\u001b[0m\u001b[0mf\u001b[0m\u001b[0;34m)\u001b[0m\u001b[0;34m)\u001b[0m\u001b[0;34m\u001b[0m\u001b[0;34m\u001b[0m\u001b[0m\n\u001b[0m\u001b[1;32m    232\u001b[0m             \u001b[0mb\u001b[0m \u001b[0;34m+=\u001b[0m \u001b[0mx0\u001b[0m\u001b[0;34m.\u001b[0m\u001b[0mdot\u001b[0m\u001b[0;34m(\u001b[0m\u001b[0mreg\u001b[0m\u001b[0;34m.\u001b[0m\u001b[0mderiv2\u001b[0m\u001b[0;34m(\u001b[0m\u001b[0mm\u001b[0m\u001b[0;34m,\u001b[0m \u001b[0mv\u001b[0m\u001b[0;34m=\u001b[0m\u001b[0mx0\u001b[0m\u001b[0;34m)\u001b[0m\u001b[0;34m)\u001b[0m\u001b[0;34m\u001b[0m\u001b[0;34m\u001b[0m\u001b[0m\n\u001b[1;32m    233\u001b[0m             \u001b[0mi_count\u001b[0m \u001b[0;34m+=\u001b[0m \u001b[0;36m1\u001b[0m\u001b[0;34m\u001b[0m\u001b[0;34m\u001b[0m\u001b[0m\n",
      "\u001b[0;32m~/anaconda/envs/SWIenv/lib/python3.6/site-packages/SimPEG/Utils/CounterUtils.py\u001b[0m in \u001b[0;36mwrapper\u001b[0;34m(self, *args, **kwargs)\u001b[0m\n\u001b[1;32m     97\u001b[0m         \u001b[0;32mif\u001b[0m \u001b[0mtype\u001b[0m\u001b[0;34m(\u001b[0m\u001b[0mcounter\u001b[0m\u001b[0;34m)\u001b[0m \u001b[0;32mis\u001b[0m \u001b[0mCounter\u001b[0m\u001b[0;34m:\u001b[0m\u001b[0;34m\u001b[0m\u001b[0;34m\u001b[0m\u001b[0m\n\u001b[1;32m     98\u001b[0m             \u001b[0mcounter\u001b[0m\u001b[0;34m.\u001b[0m\u001b[0mcountTic\u001b[0m\u001b[0;34m(\u001b[0m\u001b[0mself\u001b[0m\u001b[0;34m.\u001b[0m\u001b[0m__class__\u001b[0m\u001b[0;34m.\u001b[0m\u001b[0m__name__\u001b[0m\u001b[0;34m+\u001b[0m\u001b[0;34m'.'\u001b[0m\u001b[0;34m+\u001b[0m\u001b[0mf\u001b[0m\u001b[0;34m.\u001b[0m\u001b[0m__name__\u001b[0m\u001b[0;34m)\u001b[0m\u001b[0;34m\u001b[0m\u001b[0;34m\u001b[0m\u001b[0m\n\u001b[0;32m---> 99\u001b[0;31m         \u001b[0mout\u001b[0m \u001b[0;34m=\u001b[0m \u001b[0mf\u001b[0m\u001b[0;34m(\u001b[0m\u001b[0mself\u001b[0m\u001b[0;34m,\u001b[0m \u001b[0;34m*\u001b[0m\u001b[0margs\u001b[0m\u001b[0;34m,\u001b[0m \u001b[0;34m**\u001b[0m\u001b[0mkwargs\u001b[0m\u001b[0;34m)\u001b[0m\u001b[0;34m\u001b[0m\u001b[0;34m\u001b[0m\u001b[0m\n\u001b[0m\u001b[1;32m    100\u001b[0m         \u001b[0;32mif\u001b[0m \u001b[0mtype\u001b[0m\u001b[0;34m(\u001b[0m\u001b[0mcounter\u001b[0m\u001b[0;34m)\u001b[0m \u001b[0;32mis\u001b[0m \u001b[0mCounter\u001b[0m\u001b[0;34m:\u001b[0m\u001b[0;34m\u001b[0m\u001b[0;34m\u001b[0m\u001b[0m\n\u001b[1;32m    101\u001b[0m             \u001b[0mcounter\u001b[0m\u001b[0;34m.\u001b[0m\u001b[0mcountToc\u001b[0m\u001b[0;34m(\u001b[0m\u001b[0mself\u001b[0m\u001b[0;34m.\u001b[0m\u001b[0m__class__\u001b[0m\u001b[0;34m.\u001b[0m\u001b[0m__name__\u001b[0m\u001b[0;34m+\u001b[0m\u001b[0;34m'.'\u001b[0m\u001b[0;34m+\u001b[0m\u001b[0mf\u001b[0m\u001b[0;34m.\u001b[0m\u001b[0m__name__\u001b[0m\u001b[0;34m)\u001b[0m\u001b[0;34m\u001b[0m\u001b[0;34m\u001b[0m\u001b[0m\n",
      "\u001b[0;32m~/anaconda/envs/SWIenv/lib/python3.6/site-packages/SimPEG/DataMisfit.py\u001b[0m in \u001b[0;36mderiv2\u001b[0;34m(self, m, v, f)\u001b[0m\n\u001b[1;32m    163\u001b[0m             \u001b[0mf\u001b[0m \u001b[0;34m=\u001b[0m \u001b[0mself\u001b[0m\u001b[0;34m.\u001b[0m\u001b[0mprob\u001b[0m\u001b[0;34m.\u001b[0m\u001b[0mfields\u001b[0m\u001b[0;34m(\u001b[0m\u001b[0mm\u001b[0m\u001b[0;34m)\u001b[0m\u001b[0;34m\u001b[0m\u001b[0;34m\u001b[0m\u001b[0m\n\u001b[1;32m    164\u001b[0m         return self.prob.Jtvec_approx(\n\u001b[0;32m--> 165\u001b[0;31m             \u001b[0mm\u001b[0m\u001b[0;34m,\u001b[0m \u001b[0mself\u001b[0m\u001b[0;34m.\u001b[0m\u001b[0mW\u001b[0m \u001b[0;34m*\u001b[0m \u001b[0;34m(\u001b[0m\u001b[0mself\u001b[0m\u001b[0;34m.\u001b[0m\u001b[0mW\u001b[0m \u001b[0;34m*\u001b[0m \u001b[0mself\u001b[0m\u001b[0;34m.\u001b[0m\u001b[0mprob\u001b[0m\u001b[0;34m.\u001b[0m\u001b[0mJvec_approx\u001b[0m\u001b[0;34m(\u001b[0m\u001b[0mm\u001b[0m\u001b[0;34m,\u001b[0m \u001b[0mv\u001b[0m\u001b[0;34m,\u001b[0m \u001b[0mf\u001b[0m\u001b[0;34m=\u001b[0m\u001b[0mf\u001b[0m\u001b[0;34m)\u001b[0m\u001b[0;34m)\u001b[0m\u001b[0;34m,\u001b[0m \u001b[0mf\u001b[0m\u001b[0;34m=\u001b[0m\u001b[0mf\u001b[0m\u001b[0;34m\u001b[0m\u001b[0;34m\u001b[0m\u001b[0m\n\u001b[0m\u001b[1;32m    166\u001b[0m         )\n\u001b[1;32m    167\u001b[0m \u001b[0;34m\u001b[0m\u001b[0m\n",
      "\u001b[0;32m~/anaconda/envs/SWIenv/lib/python3.6/site-packages/SimPEG/Utils/CounterUtils.py\u001b[0m in \u001b[0;36mwrapper\u001b[0;34m(self, *args, **kwargs)\u001b[0m\n\u001b[1;32m     97\u001b[0m         \u001b[0;32mif\u001b[0m \u001b[0mtype\u001b[0m\u001b[0;34m(\u001b[0m\u001b[0mcounter\u001b[0m\u001b[0;34m)\u001b[0m \u001b[0;32mis\u001b[0m \u001b[0mCounter\u001b[0m\u001b[0;34m:\u001b[0m\u001b[0;34m\u001b[0m\u001b[0;34m\u001b[0m\u001b[0m\n\u001b[1;32m     98\u001b[0m             \u001b[0mcounter\u001b[0m\u001b[0;34m.\u001b[0m\u001b[0mcountTic\u001b[0m\u001b[0;34m(\u001b[0m\u001b[0mself\u001b[0m\u001b[0;34m.\u001b[0m\u001b[0m__class__\u001b[0m\u001b[0;34m.\u001b[0m\u001b[0m__name__\u001b[0m\u001b[0;34m+\u001b[0m\u001b[0;34m'.'\u001b[0m\u001b[0;34m+\u001b[0m\u001b[0mf\u001b[0m\u001b[0;34m.\u001b[0m\u001b[0m__name__\u001b[0m\u001b[0;34m)\u001b[0m\u001b[0;34m\u001b[0m\u001b[0;34m\u001b[0m\u001b[0m\n\u001b[0;32m---> 99\u001b[0;31m         \u001b[0mout\u001b[0m \u001b[0;34m=\u001b[0m \u001b[0mf\u001b[0m\u001b[0;34m(\u001b[0m\u001b[0mself\u001b[0m\u001b[0;34m,\u001b[0m \u001b[0;34m*\u001b[0m\u001b[0margs\u001b[0m\u001b[0;34m,\u001b[0m \u001b[0;34m**\u001b[0m\u001b[0mkwargs\u001b[0m\u001b[0;34m)\u001b[0m\u001b[0;34m\u001b[0m\u001b[0;34m\u001b[0m\u001b[0m\n\u001b[0m\u001b[1;32m    100\u001b[0m         \u001b[0;32mif\u001b[0m \u001b[0mtype\u001b[0m\u001b[0;34m(\u001b[0m\u001b[0mcounter\u001b[0m\u001b[0;34m)\u001b[0m \u001b[0;32mis\u001b[0m \u001b[0mCounter\u001b[0m\u001b[0;34m:\u001b[0m\u001b[0;34m\u001b[0m\u001b[0;34m\u001b[0m\u001b[0m\n\u001b[1;32m    101\u001b[0m             \u001b[0mcounter\u001b[0m\u001b[0;34m.\u001b[0m\u001b[0mcountToc\u001b[0m\u001b[0;34m(\u001b[0m\u001b[0mself\u001b[0m\u001b[0;34m.\u001b[0m\u001b[0m__class__\u001b[0m\u001b[0;34m.\u001b[0m\u001b[0m__name__\u001b[0m\u001b[0;34m+\u001b[0m\u001b[0;34m'.'\u001b[0m\u001b[0;34m+\u001b[0m\u001b[0mf\u001b[0m\u001b[0;34m.\u001b[0m\u001b[0m__name__\u001b[0m\u001b[0;34m)\u001b[0m\u001b[0;34m\u001b[0m\u001b[0;34m\u001b[0m\u001b[0m\n",
      "\u001b[0;32m~/anaconda/envs/SWIenv/lib/python3.6/site-packages/SimPEG/Problem.py\u001b[0m in \u001b[0;36mJvec_approx\u001b[0;34m(self, m, v, f)\u001b[0m\n\u001b[1;32m    196\u001b[0m         \u001b[0;34m:\u001b[0m\u001b[0;32mreturn\u001b[0m\u001b[0;34m:\u001b[0m \u001b[0mapproxJv\u001b[0m\u001b[0;34m\u001b[0m\u001b[0;34m\u001b[0m\u001b[0m\n\u001b[1;32m    197\u001b[0m         \"\"\"\n\u001b[0;32m--> 198\u001b[0;31m         \u001b[0;32mreturn\u001b[0m \u001b[0mself\u001b[0m\u001b[0;34m.\u001b[0m\u001b[0mJvec\u001b[0m\u001b[0;34m(\u001b[0m\u001b[0mm\u001b[0m\u001b[0;34m,\u001b[0m \u001b[0mv\u001b[0m\u001b[0;34m,\u001b[0m \u001b[0mf\u001b[0m\u001b[0;34m)\u001b[0m\u001b[0;34m\u001b[0m\u001b[0;34m\u001b[0m\u001b[0m\n\u001b[0m\u001b[1;32m    199\u001b[0m \u001b[0;34m\u001b[0m\u001b[0m\n\u001b[1;32m    200\u001b[0m     \u001b[0;34m@\u001b[0m\u001b[0mUtils\u001b[0m\u001b[0;34m.\u001b[0m\u001b[0mtimeIt\u001b[0m\u001b[0;34m\u001b[0m\u001b[0;34m\u001b[0m\u001b[0m\n",
      "\u001b[0;32m~/anaconda/envs/SWIenv/lib/python3.6/site-packages/simpegEM1D/GlobalEM1D.py\u001b[0m in \u001b[0;36mJvec\u001b[0;34m(self, m, v, f)\u001b[0m\n\u001b[1;32m    290\u001b[0m \u001b[0;34m\u001b[0m\u001b[0m\n\u001b[1;32m    291\u001b[0m     \u001b[0;32mdef\u001b[0m \u001b[0mJvec\u001b[0m\u001b[0;34m(\u001b[0m\u001b[0mself\u001b[0m\u001b[0;34m,\u001b[0m \u001b[0mm\u001b[0m\u001b[0;34m,\u001b[0m \u001b[0mv\u001b[0m\u001b[0;34m,\u001b[0m \u001b[0mf\u001b[0m\u001b[0;34m=\u001b[0m\u001b[0;32mNone\u001b[0m\u001b[0;34m)\u001b[0m\u001b[0;34m:\u001b[0m\u001b[0;34m\u001b[0m\u001b[0;34m\u001b[0m\u001b[0m\n\u001b[0;32m--> 292\u001b[0;31m         \u001b[0mJ_sigma\u001b[0m \u001b[0;34m=\u001b[0m \u001b[0mself\u001b[0m\u001b[0;34m.\u001b[0m\u001b[0mgetJ_sigma\u001b[0m\u001b[0;34m(\u001b[0m\u001b[0mm\u001b[0m\u001b[0;34m)\u001b[0m\u001b[0;34m\u001b[0m\u001b[0;34m\u001b[0m\u001b[0m\n\u001b[0m\u001b[1;32m    293\u001b[0m         \u001b[0mJ_height\u001b[0m \u001b[0;34m=\u001b[0m \u001b[0mself\u001b[0m\u001b[0;34m.\u001b[0m\u001b[0mgetJ_height\u001b[0m\u001b[0;34m(\u001b[0m\u001b[0mm\u001b[0m\u001b[0;34m)\u001b[0m\u001b[0;34m\u001b[0m\u001b[0;34m\u001b[0m\u001b[0m\n\u001b[1;32m    294\u001b[0m         \u001b[0;31m# This is deprecated at the moment\u001b[0m\u001b[0;34m\u001b[0m\u001b[0;34m\u001b[0m\u001b[0;34m\u001b[0m\u001b[0m\n",
      "\u001b[0;32m~/anaconda/envs/SWIenv/lib/python3.6/site-packages/simpegEM1D/GlobalEM1D.py\u001b[0m in \u001b[0;36mgetJ_sigma\u001b[0;34m(self, m)\u001b[0m\n\u001b[1;32m    239\u001b[0m                 \u001b[0mself\u001b[0m\u001b[0;34m.\u001b[0m\u001b[0mrun_simulation\u001b[0m\u001b[0;34m,\u001b[0m\u001b[0;34m\u001b[0m\u001b[0;34m\u001b[0m\u001b[0m\n\u001b[1;32m    240\u001b[0m                 [\n\u001b[0;32m--> 241\u001b[0;31m                     \u001b[0mself\u001b[0m\u001b[0;34m.\u001b[0m\u001b[0minput_args\u001b[0m\u001b[0;34m(\u001b[0m\u001b[0mi\u001b[0m\u001b[0;34m,\u001b[0m \u001b[0mjac_switch\u001b[0m\u001b[0;34m=\u001b[0m\u001b[0;34m'sensitivity_sigma'\u001b[0m\u001b[0;34m)\u001b[0m \u001b[0;32mfor\u001b[0m \u001b[0mi\u001b[0m \u001b[0;32min\u001b[0m \u001b[0mrange\u001b[0m\u001b[0;34m(\u001b[0m\u001b[0mself\u001b[0m\u001b[0;34m.\u001b[0m\u001b[0mn_sounding\u001b[0m\u001b[0;34m)\u001b[0m\u001b[0;34m\u001b[0m\u001b[0;34m\u001b[0m\u001b[0m\n\u001b[0m\u001b[1;32m    242\u001b[0m                 ]\n\u001b[1;32m    243\u001b[0m             )\n",
      "\u001b[0;32m~/anaconda/envs/SWIenv/lib/python3.6/multiprocessing/pool.py\u001b[0m in \u001b[0;36mmap\u001b[0;34m(self, func, iterable, chunksize)\u001b[0m\n\u001b[1;32m    286\u001b[0m         \u001b[0;32min\u001b[0m \u001b[0ma\u001b[0m \u001b[0mlist\u001b[0m \u001b[0mthat\u001b[0m \u001b[0;32mis\u001b[0m \u001b[0mreturned\u001b[0m\u001b[0;34m.\u001b[0m\u001b[0;34m\u001b[0m\u001b[0;34m\u001b[0m\u001b[0m\n\u001b[1;32m    287\u001b[0m         '''\n\u001b[0;32m--> 288\u001b[0;31m         \u001b[0;32mreturn\u001b[0m \u001b[0mself\u001b[0m\u001b[0;34m.\u001b[0m\u001b[0m_map_async\u001b[0m\u001b[0;34m(\u001b[0m\u001b[0mfunc\u001b[0m\u001b[0;34m,\u001b[0m \u001b[0miterable\u001b[0m\u001b[0;34m,\u001b[0m \u001b[0mmapstar\u001b[0m\u001b[0;34m,\u001b[0m \u001b[0mchunksize\u001b[0m\u001b[0;34m)\u001b[0m\u001b[0;34m.\u001b[0m\u001b[0mget\u001b[0m\u001b[0;34m(\u001b[0m\u001b[0;34m)\u001b[0m\u001b[0;34m\u001b[0m\u001b[0;34m\u001b[0m\u001b[0m\n\u001b[0m\u001b[1;32m    289\u001b[0m \u001b[0;34m\u001b[0m\u001b[0m\n\u001b[1;32m    290\u001b[0m     \u001b[0;32mdef\u001b[0m \u001b[0mstarmap\u001b[0m\u001b[0;34m(\u001b[0m\u001b[0mself\u001b[0m\u001b[0;34m,\u001b[0m \u001b[0mfunc\u001b[0m\u001b[0;34m,\u001b[0m \u001b[0miterable\u001b[0m\u001b[0;34m,\u001b[0m \u001b[0mchunksize\u001b[0m\u001b[0;34m=\u001b[0m\u001b[0;32mNone\u001b[0m\u001b[0;34m)\u001b[0m\u001b[0;34m:\u001b[0m\u001b[0;34m\u001b[0m\u001b[0;34m\u001b[0m\u001b[0m\n",
      "\u001b[0;32m~/anaconda/envs/SWIenv/lib/python3.6/multiprocessing/pool.py\u001b[0m in \u001b[0;36mget\u001b[0;34m(self, timeout)\u001b[0m\n\u001b[1;32m    662\u001b[0m \u001b[0;34m\u001b[0m\u001b[0m\n\u001b[1;32m    663\u001b[0m     \u001b[0;32mdef\u001b[0m \u001b[0mget\u001b[0m\u001b[0;34m(\u001b[0m\u001b[0mself\u001b[0m\u001b[0;34m,\u001b[0m \u001b[0mtimeout\u001b[0m\u001b[0;34m=\u001b[0m\u001b[0;32mNone\u001b[0m\u001b[0;34m)\u001b[0m\u001b[0;34m:\u001b[0m\u001b[0;34m\u001b[0m\u001b[0;34m\u001b[0m\u001b[0m\n\u001b[0;32m--> 664\u001b[0;31m         \u001b[0mself\u001b[0m\u001b[0;34m.\u001b[0m\u001b[0mwait\u001b[0m\u001b[0;34m(\u001b[0m\u001b[0mtimeout\u001b[0m\u001b[0;34m)\u001b[0m\u001b[0;34m\u001b[0m\u001b[0;34m\u001b[0m\u001b[0m\n\u001b[0m\u001b[1;32m    665\u001b[0m         \u001b[0;32mif\u001b[0m \u001b[0;32mnot\u001b[0m \u001b[0mself\u001b[0m\u001b[0;34m.\u001b[0m\u001b[0mready\u001b[0m\u001b[0;34m(\u001b[0m\u001b[0;34m)\u001b[0m\u001b[0;34m:\u001b[0m\u001b[0;34m\u001b[0m\u001b[0;34m\u001b[0m\u001b[0m\n\u001b[1;32m    666\u001b[0m             \u001b[0;32mraise\u001b[0m \u001b[0mTimeoutError\u001b[0m\u001b[0;34m\u001b[0m\u001b[0;34m\u001b[0m\u001b[0m\n",
      "\u001b[0;32m~/anaconda/envs/SWIenv/lib/python3.6/multiprocessing/pool.py\u001b[0m in \u001b[0;36mwait\u001b[0;34m(self, timeout)\u001b[0m\n\u001b[1;32m    659\u001b[0m \u001b[0;34m\u001b[0m\u001b[0m\n\u001b[1;32m    660\u001b[0m     \u001b[0;32mdef\u001b[0m \u001b[0mwait\u001b[0m\u001b[0;34m(\u001b[0m\u001b[0mself\u001b[0m\u001b[0;34m,\u001b[0m \u001b[0mtimeout\u001b[0m\u001b[0;34m=\u001b[0m\u001b[0;32mNone\u001b[0m\u001b[0;34m)\u001b[0m\u001b[0;34m:\u001b[0m\u001b[0;34m\u001b[0m\u001b[0;34m\u001b[0m\u001b[0m\n\u001b[0;32m--> 661\u001b[0;31m         \u001b[0mself\u001b[0m\u001b[0;34m.\u001b[0m\u001b[0m_event\u001b[0m\u001b[0;34m.\u001b[0m\u001b[0mwait\u001b[0m\u001b[0;34m(\u001b[0m\u001b[0mtimeout\u001b[0m\u001b[0;34m)\u001b[0m\u001b[0;34m\u001b[0m\u001b[0;34m\u001b[0m\u001b[0m\n\u001b[0m\u001b[1;32m    662\u001b[0m \u001b[0;34m\u001b[0m\u001b[0m\n\u001b[1;32m    663\u001b[0m     \u001b[0;32mdef\u001b[0m \u001b[0mget\u001b[0m\u001b[0;34m(\u001b[0m\u001b[0mself\u001b[0m\u001b[0;34m,\u001b[0m \u001b[0mtimeout\u001b[0m\u001b[0;34m=\u001b[0m\u001b[0;32mNone\u001b[0m\u001b[0;34m)\u001b[0m\u001b[0;34m:\u001b[0m\u001b[0;34m\u001b[0m\u001b[0;34m\u001b[0m\u001b[0m\n",
      "\u001b[0;32m~/anaconda/envs/SWIenv/lib/python3.6/threading.py\u001b[0m in \u001b[0;36mwait\u001b[0;34m(self, timeout)\u001b[0m\n\u001b[1;32m    549\u001b[0m             \u001b[0msignaled\u001b[0m \u001b[0;34m=\u001b[0m \u001b[0mself\u001b[0m\u001b[0;34m.\u001b[0m\u001b[0m_flag\u001b[0m\u001b[0;34m\u001b[0m\u001b[0;34m\u001b[0m\u001b[0m\n\u001b[1;32m    550\u001b[0m             \u001b[0;32mif\u001b[0m \u001b[0;32mnot\u001b[0m \u001b[0msignaled\u001b[0m\u001b[0;34m:\u001b[0m\u001b[0;34m\u001b[0m\u001b[0;34m\u001b[0m\u001b[0m\n\u001b[0;32m--> 551\u001b[0;31m                 \u001b[0msignaled\u001b[0m \u001b[0;34m=\u001b[0m \u001b[0mself\u001b[0m\u001b[0;34m.\u001b[0m\u001b[0m_cond\u001b[0m\u001b[0;34m.\u001b[0m\u001b[0mwait\u001b[0m\u001b[0;34m(\u001b[0m\u001b[0mtimeout\u001b[0m\u001b[0;34m)\u001b[0m\u001b[0;34m\u001b[0m\u001b[0;34m\u001b[0m\u001b[0m\n\u001b[0m\u001b[1;32m    552\u001b[0m             \u001b[0;32mreturn\u001b[0m \u001b[0msignaled\u001b[0m\u001b[0;34m\u001b[0m\u001b[0;34m\u001b[0m\u001b[0m\n\u001b[1;32m    553\u001b[0m \u001b[0;34m\u001b[0m\u001b[0m\n",
      "\u001b[0;32m~/anaconda/envs/SWIenv/lib/python3.6/threading.py\u001b[0m in \u001b[0;36mwait\u001b[0;34m(self, timeout)\u001b[0m\n\u001b[1;32m    293\u001b[0m         \u001b[0;32mtry\u001b[0m\u001b[0;34m:\u001b[0m    \u001b[0;31m# restore state no matter what (e.g., KeyboardInterrupt)\u001b[0m\u001b[0;34m\u001b[0m\u001b[0;34m\u001b[0m\u001b[0m\n\u001b[1;32m    294\u001b[0m             \u001b[0;32mif\u001b[0m \u001b[0mtimeout\u001b[0m \u001b[0;32mis\u001b[0m \u001b[0;32mNone\u001b[0m\u001b[0;34m:\u001b[0m\u001b[0;34m\u001b[0m\u001b[0;34m\u001b[0m\u001b[0m\n\u001b[0;32m--> 295\u001b[0;31m                 \u001b[0mwaiter\u001b[0m\u001b[0;34m.\u001b[0m\u001b[0macquire\u001b[0m\u001b[0;34m(\u001b[0m\u001b[0;34m)\u001b[0m\u001b[0;34m\u001b[0m\u001b[0;34m\u001b[0m\u001b[0m\n\u001b[0m\u001b[1;32m    296\u001b[0m                 \u001b[0mgotit\u001b[0m \u001b[0;34m=\u001b[0m \u001b[0;32mTrue\u001b[0m\u001b[0;34m\u001b[0m\u001b[0;34m\u001b[0m\u001b[0m\n\u001b[1;32m    297\u001b[0m             \u001b[0;32melse\u001b[0m\u001b[0;34m:\u001b[0m\u001b[0;34m\u001b[0m\u001b[0;34m\u001b[0m\u001b[0m\n",
      "\u001b[0;31mKeyboardInterrupt\u001b[0m: "
     ]
    },
    {
     "name": "stderr",
     "output_type": "stream",
     "text": [
      "Process ForkPoolWorker-7:\n",
      "Traceback (most recent call last):\n",
      "  File \"/Users/ianpg/anaconda/envs/SWIenv/lib/python3.6/multiprocessing/process.py\", line 258, in _bootstrap\n",
      "    self.run()\n",
      "Process ForkPoolWorker-8:\n",
      "Process ForkPoolWorker-9:\n",
      "Traceback (most recent call last):\n",
      "Traceback (most recent call last):\n",
      "  File \"/Users/ianpg/anaconda/envs/SWIenv/lib/python3.6/multiprocessing/process.py\", line 258, in _bootstrap\n",
      "    self.run()\n",
      "  File \"/Users/ianpg/anaconda/envs/SWIenv/lib/python3.6/multiprocessing/process.py\", line 258, in _bootstrap\n",
      "    self.run()\n",
      "  File \"/Users/ianpg/anaconda/envs/SWIenv/lib/python3.6/multiprocessing/process.py\", line 93, in run\n",
      "    self._target(*self._args, **self._kwargs)\n",
      "  File \"/Users/ianpg/anaconda/envs/SWIenv/lib/python3.6/multiprocessing/pool.py\", line 119, in worker\n",
      "    result = (True, func(*args, **kwds))\n",
      "  File \"/Users/ianpg/anaconda/envs/SWIenv/lib/python3.6/multiprocessing/process.py\", line 93, in run\n",
      "    self._target(*self._args, **self._kwargs)\n",
      "  File \"/Users/ianpg/anaconda/envs/SWIenv/lib/python3.6/multiprocessing/pool.py\", line 119, in worker\n",
      "    result = (True, func(*args, **kwds))\n",
      "  File \"/Users/ianpg/anaconda/envs/SWIenv/lib/python3.6/multiprocessing/pool.py\", line 44, in mapstar\n",
      "    return list(map(*args))\n",
      "  File \"/Users/ianpg/anaconda/envs/SWIenv/lib/python3.6/multiprocessing/pool.py\", line 44, in mapstar\n",
      "    return list(map(*args))\n",
      "  File \"/Users/ianpg/anaconda/envs/SWIenv/lib/python3.6/site-packages/simpegEM1D/GlobalEM1D.py\", line 495, in run_simulation\n",
      "    return run_simulation_TD(args)\n",
      "  File \"/Users/ianpg/anaconda/envs/SWIenv/lib/python3.6/site-packages/simpegEM1D/GlobalEM1D.py\", line 495, in run_simulation\n",
      "    return run_simulation_TD(args)\n",
      "  File \"/Users/ianpg/anaconda/envs/SWIenv/lib/python3.6/site-packages/simpegEM1D/EM1DSimulation.py\", line 193, in run_simulation_TD\n",
      "    drespdsig = prob.getJ_sigma(np.log(sigma))\n",
      "  File \"/Users/ianpg/anaconda/envs/SWIenv/lib/python3.6/site-packages/simpegEM1D/EM1DSimulation.py\", line 193, in run_simulation_TD\n",
      "    drespdsig = prob.getJ_sigma(np.log(sigma))\n",
      "Traceback (most recent call last):\n",
      "  File \"/Users/ianpg/anaconda/envs/SWIenv/lib/python3.6/site-packages/simpegEM1D/EM1D.py\", line 529, in getJ_sigma\n",
      "    dudsig = self.forward(m, output_type=\"sensitivity_sigma\")\n",
      "  File \"/Users/ianpg/anaconda/envs/SWIenv/lib/python3.6/site-packages/simpegEM1D/EM1D.py\", line 529, in getJ_sigma\n",
      "    dudsig = self.forward(m, output_type=\"sensitivity_sigma\")\n",
      "  File \"/Users/ianpg/anaconda/envs/SWIenv/lib/python3.6/site-packages/simpegEM1D/EM1D.py\", line 428, in forward\n",
      "    flag, output_type=output_type\n",
      "  File \"/Users/ianpg/anaconda/envs/SWIenv/lib/python3.6/site-packages/simpegEM1D/EM1D.py\", line 428, in forward\n",
      "    flag, output_type=output_type\n",
      "  File \"/Users/ianpg/anaconda/envs/SWIenv/lib/python3.6/site-packages/simpegEM1D/EM1D.py\", line 103, in hz_kernel_vertical_magnetic_dipole\n",
      "    n_layer, f, lamda, sig, chi, depth, self.survey.half_switch\n",
      "  File \"/Users/ianpg/anaconda/envs/SWIenv/lib/python3.6/site-packages/simpegEM1D/EM1D.py\", line 103, in hz_kernel_vertical_magnetic_dipole\n",
      "    n_layer, f, lamda, sig, chi, depth, self.survey.half_switch\n",
      "  File \"/Users/ianpg/anaconda/envs/SWIenv/lib/python3.6/site-packages/simpegEM1D/RTEfun_vec.py\", line 469, in rTEfunjac\n",
      "    M00[j+2], M10[j+2], M01[j+2], M11[j+2]\n",
      "  File \"/Users/ianpg/anaconda/envs/SWIenv/lib/python3.6/site-packages/simpegEM1D/RTEfun_vec.py\", line 469, in rTEfunjac\n",
      "    M00[j+2], M10[j+2], M01[j+2], M11[j+2]\n",
      "  File \"/Users/ianpg/anaconda/envs/SWIenv/lib/python3.6/site-packages/simpegEM1D/RTEfun_vec.py\", line 126, in matmul\n",
      "    c01 = a00*b01 + a01*b11\n",
      "  File \"/Users/ianpg/anaconda/envs/SWIenv/lib/python3.6/site-packages/simpegEM1D/RTEfun_vec.py\", line 127, in matmul\n",
      "    c11 = a10*b01 + a11*b11\n",
      "  File \"/Users/ianpg/anaconda/envs/SWIenv/lib/python3.6/multiprocessing/process.py\", line 258, in _bootstrap\n",
      "    self.run()\n",
      "Traceback (most recent call last):\n",
      "  File \"/Users/ianpg/anaconda/envs/SWIenv/lib/python3.6/multiprocessing/pool.py\", line 119, in worker\n",
      "    result = (True, func(*args, **kwds))\n",
      "  File \"/Users/ianpg/anaconda/envs/SWIenv/lib/python3.6/multiprocessing/process.py\", line 93, in run\n",
      "    self._target(*self._args, **self._kwargs)\n",
      "  File \"/Users/ianpg/anaconda/envs/SWIenv/lib/python3.6/multiprocessing/process.py\", line 93, in run\n",
      "    self._target(*self._args, **self._kwargs)\n",
      "  File \"/Users/ianpg/anaconda/envs/SWIenv/lib/python3.6/multiprocessing/pool.py\", line 119, in worker\n",
      "    result = (True, func(*args, **kwds))\n",
      "  File \"/Users/ianpg/anaconda/envs/SWIenv/lib/python3.6/multiprocessing/process.py\", line 258, in _bootstrap\n",
      "    self.run()\n",
      "  File \"/Users/ianpg/anaconda/envs/SWIenv/lib/python3.6/multiprocessing/process.py\", line 93, in run\n",
      "    self._target(*self._args, **self._kwargs)\n",
      "  File \"/Users/ianpg/anaconda/envs/SWIenv/lib/python3.6/multiprocessing/pool.py\", line 119, in worker\n",
      "    result = (True, func(*args, **kwds))\n",
      "  File \"/Users/ianpg/anaconda/envs/SWIenv/lib/python3.6/multiprocessing/pool.py\", line 44, in mapstar\n",
      "    return list(map(*args))\n",
      "  File \"/Users/ianpg/anaconda/envs/SWIenv/lib/python3.6/multiprocessing/pool.py\", line 44, in mapstar\n",
      "    return list(map(*args))\n",
      "  File \"/Users/ianpg/anaconda/envs/SWIenv/lib/python3.6/multiprocessing/pool.py\", line 119, in worker\n",
      "    result = (True, func(*args, **kwds))\n",
      "  File \"/Users/ianpg/anaconda/envs/SWIenv/lib/python3.6/multiprocessing/pool.py\", line 44, in mapstar\n",
      "    return list(map(*args))\n",
      "  File \"/Users/ianpg/anaconda/envs/SWIenv/lib/python3.6/site-packages/simpegEM1D/GlobalEM1D.py\", line 495, in run_simulation\n",
      "    return run_simulation_TD(args)\n",
      "  File \"/Users/ianpg/anaconda/envs/SWIenv/lib/python3.6/site-packages/simpegEM1D/GlobalEM1D.py\", line 495, in run_simulation\n",
      "    return run_simulation_TD(args)\n",
      "  File \"/Users/ianpg/anaconda/envs/SWIenv/lib/python3.6/site-packages/simpegEM1D/GlobalEM1D.py\", line 495, in run_simulation\n",
      "    return run_simulation_TD(args)\n",
      "  File \"/Users/ianpg/anaconda/envs/SWIenv/lib/python3.6/multiprocessing/pool.py\", line 44, in mapstar\n",
      "    return list(map(*args))\n",
      "  File \"/Users/ianpg/anaconda/envs/SWIenv/lib/python3.6/site-packages/simpegEM1D/EM1DSimulation.py\", line 193, in run_simulation_TD\n",
      "    drespdsig = prob.getJ_sigma(np.log(sigma))\n",
      "  File \"/Users/ianpg/anaconda/envs/SWIenv/lib/python3.6/site-packages/simpegEM1D/EM1DSimulation.py\", line 193, in run_simulation_TD\n",
      "    drespdsig = prob.getJ_sigma(np.log(sigma))\n",
      "  File \"/Users/ianpg/anaconda/envs/SWIenv/lib/python3.6/site-packages/simpegEM1D/EM1D.py\", line 529, in getJ_sigma\n",
      "    dudsig = self.forward(m, output_type=\"sensitivity_sigma\")\n",
      "  File \"/Users/ianpg/anaconda/envs/SWIenv/lib/python3.6/site-packages/simpegEM1D/EM1DSimulation.py\", line 193, in run_simulation_TD\n",
      "    drespdsig = prob.getJ_sigma(np.log(sigma))\n",
      "  File \"/Users/ianpg/anaconda/envs/SWIenv/lib/python3.6/site-packages/simpegEM1D/GlobalEM1D.py\", line 495, in run_simulation\n",
      "    return run_simulation_TD(args)\n",
      "  File \"/Users/ianpg/anaconda/envs/SWIenv/lib/python3.6/site-packages/simpegEM1D/EM1D.py\", line 529, in getJ_sigma\n",
      "    dudsig = self.forward(m, output_type=\"sensitivity_sigma\")\n",
      "  File \"/Users/ianpg/anaconda/envs/SWIenv/lib/python3.6/site-packages/simpegEM1D/EM1D.py\", line 529, in getJ_sigma\n",
      "    dudsig = self.forward(m, output_type=\"sensitivity_sigma\")\n",
      "  File \"/Users/ianpg/anaconda/envs/SWIenv/lib/python3.6/site-packages/simpegEM1D/EM1DSimulation.py\", line 193, in run_simulation_TD\n",
      "    drespdsig = prob.getJ_sigma(np.log(sigma))\n",
      "  File \"/Users/ianpg/anaconda/envs/SWIenv/lib/python3.6/site-packages/simpegEM1D/EM1D.py\", line 428, in forward\n",
      "    flag, output_type=output_type\n",
      "  File \"/Users/ianpg/anaconda/envs/SWIenv/lib/python3.6/site-packages/simpegEM1D/EM1D.py\", line 428, in forward\n",
      "    flag, output_type=output_type\n",
      "  File \"/Users/ianpg/anaconda/envs/SWIenv/lib/python3.6/site-packages/simpegEM1D/EM1D.py\", line 428, in forward\n",
      "    flag, output_type=output_type\n",
      "  File \"/Users/ianpg/anaconda/envs/SWIenv/lib/python3.6/site-packages/simpegEM1D/EM1D.py\", line 103, in hz_kernel_vertical_magnetic_dipole\n",
      "    n_layer, f, lamda, sig, chi, depth, self.survey.half_switch\n",
      "  File \"/Users/ianpg/anaconda/envs/SWIenv/lib/python3.6/site-packages/simpegEM1D/EM1D.py\", line 531, in getJ_sigma\n",
      "    self._Jmatrix_sigma = self.survey.projectFields(dudsig)\n",
      "  File \"/Users/ianpg/anaconda/envs/SWIenv/lib/python3.6/site-packages/simpegEM1D/RTEfun_vec.py\", line 434, in rTEfunjac\n",
      "    M00[j+2], M10[j+2], M01[j+2], M11[j+2]\n",
      "  File \"/Users/ianpg/anaconda/envs/SWIenv/lib/python3.6/site-packages/simpegEM1D/Survey.py\", line 502, in projectFields\n",
      "    self.time_int, resp_int_i\n",
      "  File \"/Users/ianpg/anaconda/envs/SWIenv/lib/python3.6/site-packages/simpegEM1D/EM1D.py\", line 103, in hz_kernel_vertical_magnetic_dipole\n",
      "    n_layer, f, lamda, sig, chi, depth, self.survey.half_switch\n",
      "  File \"/Users/ianpg/anaconda/envs/SWIenv/lib/python3.6/site-packages/scipy/interpolate/interpolate.py\", line 431, in __init__\n",
      "    _Interpolator1D.__init__(self, x, y, axis=axis)\n",
      "  File \"/Users/ianpg/anaconda/envs/SWIenv/lib/python3.6/site-packages/simpegEM1D/RTEfun_vec.py\", line 339, in rTEfunjac\n",
      "    Mtemp00, Mtemp10, Mtemp01, Mtemp11\n",
      "  File \"/Users/ianpg/anaconda/envs/SWIenv/lib/python3.6/site-packages/simpegEM1D/EM1D.py\", line 103, in hz_kernel_vertical_magnetic_dipole\n",
      "    n_layer, f, lamda, sig, chi, depth, self.survey.half_switch\n",
      "  File \"/Users/ianpg/anaconda/envs/SWIenv/lib/python3.6/site-packages/scipy/interpolate/polyint.py\", line 60, in __init__\n",
      "    self._set_yi(yi, xi=xi, axis=axis)\n",
      "  File \"/Users/ianpg/anaconda/envs/SWIenv/lib/python3.6/site-packages/simpegEM1D/RTEfun_vec.py\", line 127, in matmul\n",
      "    c11 = a10*b01 + a11*b11\n",
      "  File \"/Users/ianpg/anaconda/envs/SWIenv/lib/python3.6/site-packages/simpegEM1D/RTEfun_vec.py\", line 126, in matmul\n",
      "    c01 = a00*b01 + a01*b11\n",
      "  File \"/Users/ianpg/anaconda/envs/SWIenv/lib/python3.6/site-packages/simpegEM1D/RTEfun_vec.py\", line 267, in rTEfunjac\n",
      "    const = mu_0*(1+chi[j])*utemp1/(mu_0*(1+chi[j+1])*utemp0)\n",
      "KeyboardInterrupt\n",
      "KeyboardInterrupt\n",
      "  File \"/Users/ianpg/anaconda/envs/SWIenv/lib/python3.6/site-packages/scipy/interpolate/polyint.py\", line 124, in _set_yi\n",
      "    if xi is not None and shape[axis] != len(xi):\n",
      "KeyboardInterrupt\n",
      "KeyboardInterrupt\n",
      "KeyboardInterrupt\n",
      "KeyboardInterrupt\n"
     ]
    }
   ],
   "source": [
    "mopt = inv.run(m0)"
   ]
  },
  {
   "cell_type": "code",
   "execution_count": 112,
   "metadata": {},
   "outputs": [
    {
     "data": {
      "text/plain": [
       "<module 'SimPEG.DataMisfit' from '/Users/ianpg/anaconda/envs/SWIenv/lib/python3.6/site-packages/SimPEG/DataMisfit.py'>"
      ]
     },
     "execution_count": 112,
     "metadata": {},
     "output_type": "execute_result"
    }
   ],
   "source": [
    "DataMisfit"
   ]
  },
  {
   "cell_type": "code",
   "execution_count": 103,
   "metadata": {},
   "outputs": [
    {
     "data": {
      "text/plain": [
       "['LINE',\n",
       " 'X',\n",
       " 'Y',\n",
       " 'TIME',\n",
       " 'FID',\n",
       " 'RECORD',\n",
       " 'TOPO',\n",
       " 'ALT',\n",
       " 'INVALT',\n",
       " 'INVALTSTD',\n",
       " 'DELTAALT',\n",
       " 'TILT',\n",
       " 'INVTILT',\n",
       " 'INVTILTSTD',\n",
       " 'NUMDATA',\n",
       " 'SEGMENT',\n",
       " 'RESDATA',\n",
       " 'RESTOTAL',\n",
       " 'DATA_0',\n",
       " 'DATA_1',\n",
       " 'DATA_2',\n",
       " 'DATA_3',\n",
       " 'DATA_4',\n",
       " 'DATA_5',\n",
       " 'DATA_6',\n",
       " 'DATA_7',\n",
       " 'DATA_8',\n",
       " 'DATA_9',\n",
       " 'DATA_10',\n",
       " 'DATA_11',\n",
       " 'DATA_12',\n",
       " 'DATA_13',\n",
       " 'DATA_14',\n",
       " 'DATA_15',\n",
       " 'DATA_16',\n",
       " 'DATA_17',\n",
       " 'DATA_18',\n",
       " 'DATA_19',\n",
       " 'DATA_20',\n",
       " 'DATA_21',\n",
       " 'DATA_22',\n",
       " 'DATA_23',\n",
       " 'DATA_24',\n",
       " 'DATA_25',\n",
       " 'DATA_26',\n",
       " 'DATA_27',\n",
       " 'DATA_28',\n",
       " 'DATA_29',\n",
       " 'DATA_30',\n",
       " 'DATA_31',\n",
       " 'DATA_32',\n",
       " 'DATA_33',\n",
       " 'DATA_34',\n",
       " 'DATA_35',\n",
       " 'DATA_36',\n",
       " 'DATA_37',\n",
       " 'DATA_38',\n",
       " 'DATA_39',\n",
       " 'DATA_40',\n",
       " 'DATA_41',\n",
       " 'DATA_42',\n",
       " 'DATA_43',\n",
       " 'DATA_44',\n",
       " 'DATA_45',\n",
       " 'DATA_46',\n",
       " 'DATA_47',\n",
       " 'DATASTD_0',\n",
       " 'DATASTD_1',\n",
       " 'DATASTD_2',\n",
       " 'DATASTD_3',\n",
       " 'DATASTD_4',\n",
       " 'DATASTD_5',\n",
       " 'DATASTD_6',\n",
       " 'DATASTD_7',\n",
       " 'DATASTD_8',\n",
       " 'DATASTD_9',\n",
       " 'DATASTD_10',\n",
       " 'DATASTD_11',\n",
       " 'DATASTD_12',\n",
       " 'DATASTD_13',\n",
       " 'DATASTD_14',\n",
       " 'DATASTD_15',\n",
       " 'DATASTD_16',\n",
       " 'DATASTD_17',\n",
       " 'DATASTD_18',\n",
       " 'DATASTD_19',\n",
       " 'DATASTD_20',\n",
       " 'DATASTD_21',\n",
       " 'DATASTD_22',\n",
       " 'DATASTD_23',\n",
       " 'DATASTD_24',\n",
       " 'DATASTD_25',\n",
       " 'DATASTD_26',\n",
       " 'DATASTD_27',\n",
       " 'DATASTD_28',\n",
       " 'DATASTD_29',\n",
       " 'DATASTD_30',\n",
       " 'DATASTD_31',\n",
       " 'DATASTD_32',\n",
       " 'DATASTD_33',\n",
       " 'DATASTD_34',\n",
       " 'DATASTD_35',\n",
       " 'DATASTD_36',\n",
       " 'DATASTD_37',\n",
       " 'DATASTD_38',\n",
       " 'DATASTD_39',\n",
       " 'DATASTD_40',\n",
       " 'DATASTD_41',\n",
       " 'DATASTD_42',\n",
       " 'DATASTD_43',\n",
       " 'DATASTD_44',\n",
       " 'DATASTD_45',\n",
       " 'DATASTD_46',\n",
       " 'DATASTD_47',\n",
       " 'skytem_type']"
      ]
     },
     "execution_count": 103,
     "metadata": {},
     "output_type": "execute_result"
    }
   ],
   "source": [
    "[c for c in df17.columns]"
   ]
  },
  {
   "cell_type": "code",
   "execution_count": null,
   "metadata": {},
   "outputs": [],
   "source": []
  }
 ],
 "metadata": {
  "kernelspec": {
   "display_name": "Python [conda env:SWIenv]",
   "language": "python",
   "name": "conda-env-SWIenv-py"
  },
  "language_info": {
   "codemirror_mode": {
    "name": "ipython",
    "version": 3
   },
   "file_extension": ".py",
   "mimetype": "text/x-python",
   "name": "python",
   "nbconvert_exporter": "python",
   "pygments_lexer": "ipython3",
   "version": "3.6.7"
  }
 },
 "nbformat": 4,
 "nbformat_minor": 2
}
